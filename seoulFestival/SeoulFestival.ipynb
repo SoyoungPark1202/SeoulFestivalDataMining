{
 "cells": [
  {
   "cell_type": "code",
   "execution_count": 1,
   "metadata": {
    "collapsed": true
   },
   "outputs": [],
   "source": [
    "import pandas as pd\n",
    "import os\n",
    "import matplotlib.pyplot as plt"
   ]
  },
  {
   "cell_type": "markdown",
   "metadata": {},
   "source": [
    "[step 1] 데이터 가져오기"
   ]
  },
  {
   "cell_type": "code",
   "execution_count": 2,
   "metadata": {},
   "outputs": [],
   "source": [
    "flowlist = os.listdir('C:\\\\deep\\\\seoulFestival\\\\flowdata')\n",
    "flow_nm = [file_name[:-8] for file_name in flowlist]"
   ]
  },
  {
   "cell_type": "code",
   "execution_count": 3,
   "metadata": {},
   "outputs": [],
   "source": [
    "flow_dict ={}\n",
    "flow_path = 'C:\\\\deep\\\\seoulFestival\\\\flowdata\\\\'\n"
   ]
  },
  {
   "cell_type": "code",
   "execution_count": 4,
   "metadata": {},
   "outputs": [],
   "source": [
    "for i in range(len(flowlist)):\n",
    "    # flow_nm[i] = pd.read_csv(a + flowlist[i], encoding=\"cp949\", sep='\\t', dtype=str, index_col=0)\n",
    "    flow_dict[flow_nm[i]] = pd.read_csv(flow_path + flowlist[i], encoding=\"cp949\", sep='\\t', dtype=str, index_col=0)\n"
   ]
  },
  {
   "cell_type": "code",
   "execution_count": 5,
   "metadata": {},
   "outputs": [],
   "source": [
    "revlist = os.listdir('C:\\\\deep\\\\seoulFestival\\\\revenuedata')\n",
    "rev_nm = [file_name[:-8] for file_name in flowlist]\n",
    "rev_dict ={}\n",
    "rev_path = 'C:\\\\deep\\\\seoulFestival\\\\revenuedata\\\\'"
   ]
  },
  {
   "cell_type": "code",
   "execution_count": 6,
   "metadata": {},
   "outputs": [],
   "source": [
    "for j in range(len(rev_nm)):\n",
    "    df = pd.read_csv(rev_path + revlist[j], encoding=\"cp949\", sep='\\t', index_col=None)\n",
    "    df['Event'] = [rev_nm[j][:-10] for i in range(len(df.SECTOR))]\n",
    "    rev_dict[rev_nm[j]] = df"
   ]
  },
  {
   "cell_type": "code",
   "execution_count": 7,
   "metadata": {},
   "outputs": [
    {
     "name": "stdout",
     "output_type": "stream",
     "text": [
      "CULTURE_AGE_INFLOW_2014 -> (215474, 8)\nCULTURE_AGE_INFLOW_2015 -> (298037, 8)\nCULTURE_TIME_INFLOW_2014 -> (106822, 8)\nCULTURE_TIME_INFLOW_2015 -> (135082, 8)\nDRUM_AGE_INFLOW_2014 -> (436877, 8)\nDRUM_AGE_INFLOW_2015 -> (517691, 8)\nDRUM_TIME_INFLOW_2014 -> (349363, 8)\nDRUM_TIME_INFLOW_2015 -> (431704, 8)\nHISEOUL_AGE_INFLOW_2014 -> (753748, 8)\nHISEOUL_AGE_INFLOW_2015 -> (911871, 8)\n"
     ]
    }
   ],
   "source": [
    "for j in range(len(revlist)):\n",
    "    print(rev_nm[j], \" ->\", rev_dict[rev_nm[j]].shape)"
   ]
  },
  {
   "cell_type": "code",
   "execution_count": 8,
   "metadata": {},
   "outputs": [
    {
     "name": "stdout",
     "output_type": "stream",
     "text": [
      "CULTURE_AGE_INFLOW_2014 -> (419, 40)\nCULTURE_AGE_INFLOW_2015 -> (40652, 39)\nCULTURE_TIME_INFLOW_2014 -> (419, 29)\nCULTURE_TIME_INFLOW_2015 -> (40741, 29)\nDRUM_AGE_INFLOW_2014 -> (417, 40)\nDRUM_AGE_INFLOW_2015 -> (27979, 38)\nDRUM_TIME_INFLOW_2014 -> (417, 29)\nDRUM_TIME_INFLOW_2015 -> (27676, 27)\nHISEOUL_AGE_INFLOW_2014 -> (1049, 40)\nHISEOUL_AGE_INFLOW_2015 -> (48606, 40)\nHISEOUL_TIME_INFLOW_2014 -> (1049, 29)\nHISEOUL_TIME_INFLOW_2015 -> (59998, 29)\nKIMJANG_AGE_INFLOW_2014 -> (628, 40)\nKIMJANG_AGE_INFLOW_2015 -> (630, 38)\nKIMJANG_TIME_INFLOW_2014 -> (630, 29)\nKIMJANG_TIME_INFLOW_2015 -> (630, 29)\nLAMP_AGE_INFLOW_2014 -> (1888, 40)\nLAMP_AGE_INFLOW_2015 -> (1890, 38)\nLAMP_TIME_INFLOW_2014 -> (1889, 29)\nLAMP_TIME_INFLOW_2015 -> (1890, 29)\n"
     ]
    }
   ],
   "source": [
    "for i in range(len(flowlist)):\n",
    "    print(flow_nm[i], \" ->\", flow_dict[flow_nm[i]].shape)"
   ]
  },
  {
   "cell_type": "markdown",
   "metadata": {},
   "source": [
    "[step 2] 데이터 정제"
   ]
  },
  {
   "cell_type": "code",
   "execution_count": 12,
   "metadata": {},
   "outputs": [
    {
     "data": {
      "text/plain": [
       "Index(['SECTOR', 'DATE', 'INFLOW_CD', 'INFLOW_NM1', 'INFLOW_NM2', 'INFLOW_NM3',\n       'INFLOW_NM4', 'SUM', 'SUM_M', 'SUM_F', 'M_0004', 'M_0509', 'M_1014',\n       'M_1519', 'M_2024', 'M_2529', 'M_3034', 'M_3539', 'M_4044', 'M_4549',\n       'M_5054', 'M_5559', 'M_6064', 'M_6569', 'M_70U', 'F_0004', 'F_0509',\n       'F_1014', 'F_1519', 'F_2024', 'F_2529', 'F_3034', 'F_3539', 'F_4044',\n       'F_4549', 'F_5054', 'F_5559', 'F_6064', 'F_6569', 'F_70U'],\n      dtype='object')"
      ]
     },
     "execution_count": 12,
     "metadata": {},
     "output_type": "execute_result"
    }
   ],
   "source": [
    "# 컬럼명(변수명) 확인 \n",
    "flow_dict[flow_nm[0]].columns"
   ]
  },
  {
   "cell_type": "code",
   "execution_count": null,
   "metadata": {},
   "outputs": [],
   "source": [
    "flow_nm_age = [s for s in flow_nm if \"AGE\" in s]\n",
    "flow_nm_time = [s for s in flow_nm if \"TIME\" in s]"
   ]
  },
  {
   "cell_type": "code",
   "execution_count": null,
   "metadata": {},
   "outputs": [],
   "source": [
    "flow_nm_age_dict = {}\n",
    "for key in flow_nm_age:\n",
    "    flow_nm_age_dict[key] = flow_dict.get(key)"
   ]
  },
  {
   "cell_type": "code",
   "execution_count": null,
   "metadata": {},
   "outputs": [],
   "source": [
    "flow_nm_time_dict = {}\n",
    "for key in flow_nm_time:\n",
    "    flow_nm_time_dict[key] = flow_dict.get(key)"
   ]
  },
  {
   "cell_type": "code",
   "execution_count": null,
   "metadata": {},
   "outputs": [],
   "source": [
    "pd.DataFrame(ft_locs['정리한전체주소'].apply(lambda v: v.split()[:2]).tolist(),\n",
    "                        columns=('d1', 'd2'))"
   ]
  }
 ],
 "metadata": {
  "kernelspec": {
   "display_name": "Python 2",
   "language": "python",
   "name": "python2"
  },
  "language_info": {
   "codemirror_mode": {
    "name": "ipython",
    "version": 2
   },
   "file_extension": ".py",
   "mimetype": "text/x-python",
   "name": "python",
   "nbconvert_exporter": "python",
   "pygments_lexer": "ipython2",
   "version": "2.7.6"
  }
 },
 "nbformat": 4,
 "nbformat_minor": 0
}
