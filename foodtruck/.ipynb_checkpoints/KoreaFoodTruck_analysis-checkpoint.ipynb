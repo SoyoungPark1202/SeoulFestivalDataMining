{
 "cells": [
  {
   "cell_type": "code",
   "execution_count": 2,
   "metadata": {
    "collapsed": true
   },
   "outputs": [],
   "source": [
    "import pandas as pd\n",
    "import numpy as np\n",
    "\n",
    "import matplotlib.pyplot as plt\n",
    "\n",
    "%matplotlib inline"
   ]
  },
  {
   "cell_type": "code",
   "execution_count": 3,
   "metadata": {
    "collapsed": true
   },
   "outputs": [],
   "source": [
    "from matplotlib import font_manager, rc\n",
    "plt.rcParams['axes.unicode_minus'] = False\n",
    "f_path = \"/users/hong/Documents/Library/Fonts/malgun.ttf\"\n",
    "font_name = font_manager.FontProperties(fname=f_path).get_name()\n",
    "rc('font', family=font_name)"
   ]
  },
  {
   "cell_type": "code",
   "execution_count": 4,
   "metadata": {
    "collapsed": true
   },
   "outputs": [],
   "source": [
    "filename='C:\\deep\\\\foodtruck/KoreaFoodTruck.csv'"
   ]
  },
  {
   "cell_type": "code",
   "execution_count": 5,
   "metadata": {
    "collapsed": true
   },
   "outputs": [],
   "source": [
    "foodtruck_data=pd.read_csv(filename, encoding='utf8', index_col=0, header=0)"
   ]
  },
  {
   "cell_type": "code",
   "execution_count": 6,
   "metadata": {
    "collapsed": true
   },
   "outputs": [],
   "source": [
    "ft_tbl = pd.DataFrame(foodtruck_data)\n",
    "ft_locs = pd.DataFrame(ft_tbl[['사업장명','소재지전체주소','도로명전체주소']])"
   ]
  },
  {
   "cell_type": "code",
   "execution_count": 7,
   "metadata": {
    "collapsed": false
   },
   "outputs": [
    {
     "data": {
      "text/html": [
       "<div>\n",
       "<table border=\"1\" class=\"dataframe\">\n",
       "  <thead>\n",
       "    <tr style=\"text-align: right;\">\n",
       "      <th></th>\n",
       "      <th>사업장명</th>\n",
       "      <th>소재지전체주소</th>\n",
       "      <th>도로명전체주소</th>\n",
       "    </tr>\n",
       "    <tr>\n",
       "      <th>﻿\"번호\"</th>\n",
       "      <th></th>\n",
       "      <th></th>\n",
       "      <th></th>\n",
       "    </tr>\n",
       "  </thead>\n",
       "  <tbody>\n",
       "    <tr>\n",
       "      <th>1</th>\n",
       "      <td>유리성휴게점</td>\n",
       "      <td>제주특별자치도 서귀포시 색달동 2950-23번지</td>\n",
       "      <td>NaN</td>\n",
       "    </tr>\n",
       "    <tr>\n",
       "      <th>2</th>\n",
       "      <td>천제 푸드트럭</td>\n",
       "      <td>제주특별자치도 서귀포시 중문동 2232번지</td>\n",
       "      <td>제주특별자치도 서귀포시 천제연로 132 (중문동)</td>\n",
       "    </tr>\n",
       "    <tr>\n",
       "      <th>3</th>\n",
       "      <td>중문푸드트럭</td>\n",
       "      <td>제주특별자치도 서귀포시 중문동 2232번지</td>\n",
       "      <td>제주특별자치도 서귀포시 천제연로 132 (중문동)</td>\n",
       "    </tr>\n",
       "    <tr>\n",
       "      <th>4</th>\n",
       "      <td>스트린런치푸드트럭</td>\n",
       "      <td>제주특별자치도 서귀포시 중문동 2503번지</td>\n",
       "      <td>NaN</td>\n",
       "    </tr>\n",
       "    <tr>\n",
       "      <th>5</th>\n",
       "      <td>팜랜드 푸드트럭</td>\n",
       "      <td>경기도 안성시 공도읍 신두리 451번지</td>\n",
       "      <td>경기도 안성시 공도읍 대신두길 28</td>\n",
       "    </tr>\n",
       "  </tbody>\n",
       "</table>\n",
       "</div>"
      ],
      "text/plain": [
       "            사업장명                      소재지전체주소                      도로명전체주소\n",
       "﻿\"번호\"                                                                     \n",
       "1         유리성휴게점  제주특별자치도 서귀포시 색달동 2950-23번지                           NaN\n",
       "2        천제 푸드트럭     제주특별자치도 서귀포시 중문동 2232번지   제주특별자치도 서귀포시 천제연로 132 (중문동)\n",
       "3         중문푸드트럭     제주특별자치도 서귀포시 중문동 2232번지   제주특별자치도 서귀포시 천제연로 132 (중문동)\n",
       "4      스트린런치푸드트럭     제주특별자치도 서귀포시 중문동 2503번지                           NaN\n",
       "5       팜랜드 푸드트럭       경기도 안성시 공도읍 신두리 451번지           경기도 안성시 공도읍 대신두길 28"
      ]
     },
     "execution_count": 7,
     "metadata": {},
     "output_type": "execute_result"
    }
   ],
   "source": [
    "ft_locs.head()"
   ]
  }
 ],
 "metadata": {
  "anaconda-cloud": {},
  "kernelspec": {
   "display_name": "Python [conda root]",
   "language": "python",
   "name": "conda-root-py"
  },
  "language_info": {
   "codemirror_mode": {
    "name": "ipython",
    "version": 3
   },
   "file_extension": ".py",
   "mimetype": "text/x-python",
   "name": "python",
   "nbconvert_exporter": "python",
   "pygments_lexer": "ipython3",
   "version": "3.5.4"
  }
 },
 "nbformat": 4,
 "nbformat_minor": 0
}
