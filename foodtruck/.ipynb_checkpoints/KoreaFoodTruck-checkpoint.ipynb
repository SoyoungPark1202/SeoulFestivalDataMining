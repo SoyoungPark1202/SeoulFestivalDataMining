{
 "cells": [
  {
   "cell_type": "code",
   "execution_count": 1,
   "metadata": {
    "collapsed": true
   },
   "outputs": [],
   "source": [
    "import pandas as pd\n",
    "import numpy as np\n",
    "\n",
    "import matplotlib.pyplot as plt\n",
    "\n",
    "%matplotlib inline"
   ]
  },
  {
   "cell_type": "code",
   "execution_count": 2,
   "metadata": {
    "collapsed": true
   },
   "outputs": [],
   "source": [
    "from matplotlib import font_manager, rc\n",
    "plt.rcParams['axes.unicode_minus'] = False\n",
    "f_path = \"/users/hong/Documents/Library/Fonts/malgun.ttf\"\n",
    "font_name = font_manager.FontProperties(fname=f_path).get_name()\n",
    "rc('font', family=font_name)"
   ]
  },
  {
   "cell_type": "code",
   "execution_count": 3,
   "metadata": {
    "collapsed": true
   },
   "outputs": [],
   "source": [
    "filename='C:\\deep\\\\foodtruck/KoreaFoodTruck.csv'"
   ]
  },
  {
   "cell_type": "code",
   "execution_count": 4,
   "metadata": {
    "collapsed": true
   },
   "outputs": [],
   "source": [
    "foodtruck_data=pd.read_csv(filename, encoding='utf8', index_col=0, header=0)"
   ]
  },
  {
   "cell_type": "code",
   "execution_count": 5,
   "metadata": {
    "collapsed": true
   },
   "outputs": [],
   "source": [
    "ft_tbl = pd.DataFrame(foodtruck_data)\n",
    "ft_locs = pd.DataFrame(ft_tbl[['사업장명','소재지전체주소','도로명전체주소']])"
   ]
  },
  {
   "cell_type": "code",
   "execution_count": 6,
   "metadata": {
    "collapsed": false
   },
   "outputs": [
    {
     "data": {
      "text/html": [
       "<div>\n",
       "<table border=\"1\" class=\"dataframe\">\n",
       "  <thead>\n",
       "    <tr style=\"text-align: right;\">\n",
       "      <th></th>\n",
       "      <th>사업장명</th>\n",
       "      <th>소재지전체주소</th>\n",
       "      <th>도로명전체주소</th>\n",
       "    </tr>\n",
       "    <tr>\n",
       "      <th>﻿\"번호\"</th>\n",
       "      <th></th>\n",
       "      <th></th>\n",
       "      <th></th>\n",
       "    </tr>\n",
       "  </thead>\n",
       "  <tbody>\n",
       "    <tr>\n",
       "      <th>1</th>\n",
       "      <td>유리성휴게점</td>\n",
       "      <td>제주특별자치도 서귀포시 색달동 2950-23번지</td>\n",
       "      <td>NaN</td>\n",
       "    </tr>\n",
       "    <tr>\n",
       "      <th>2</th>\n",
       "      <td>천제 푸드트럭</td>\n",
       "      <td>제주특별자치도 서귀포시 중문동 2232번지</td>\n",
       "      <td>제주특별자치도 서귀포시 천제연로 132 (중문동)</td>\n",
       "    </tr>\n",
       "    <tr>\n",
       "      <th>3</th>\n",
       "      <td>중문푸드트럭</td>\n",
       "      <td>제주특별자치도 서귀포시 중문동 2232번지</td>\n",
       "      <td>제주특별자치도 서귀포시 천제연로 132 (중문동)</td>\n",
       "    </tr>\n",
       "    <tr>\n",
       "      <th>4</th>\n",
       "      <td>스트린런치푸드트럭</td>\n",
       "      <td>제주특별자치도 서귀포시 중문동 2503번지</td>\n",
       "      <td>NaN</td>\n",
       "    </tr>\n",
       "    <tr>\n",
       "      <th>5</th>\n",
       "      <td>팜랜드 푸드트럭</td>\n",
       "      <td>경기도 안성시 공도읍 신두리 451번지</td>\n",
       "      <td>경기도 안성시 공도읍 대신두길 28</td>\n",
       "    </tr>\n",
       "  </tbody>\n",
       "</table>\n",
       "</div>"
      ],
      "text/plain": [
       "            사업장명                      소재지전체주소                      도로명전체주소\n",
       "﻿\"번호\"                                                                     \n",
       "1         유리성휴게점  제주특별자치도 서귀포시 색달동 2950-23번지                           NaN\n",
       "2        천제 푸드트럭     제주특별자치도 서귀포시 중문동 2232번지   제주특별자치도 서귀포시 천제연로 132 (중문동)\n",
       "3         중문푸드트럭     제주특별자치도 서귀포시 중문동 2232번지   제주특별자치도 서귀포시 천제연로 132 (중문동)\n",
       "4      스트린런치푸드트럭     제주특별자치도 서귀포시 중문동 2503번지                           NaN\n",
       "5       팜랜드 푸드트럭       경기도 안성시 공도읍 신두리 451번지           경기도 안성시 공도읍 대신두길 28"
      ]
     },
     "execution_count": 6,
     "metadata": {},
     "output_type": "execute_result"
    }
   ],
   "source": [
    "ft_locs.head()"
   ]
  },
  {
   "cell_type": "code",
   "execution_count": 7,
   "metadata": {
    "collapsed": false
   },
   "outputs": [
    {
     "data": {
      "text/html": [
       "<div>\n",
       "<table border=\"1\" class=\"dataframe\">\n",
       "  <thead>\n",
       "    <tr style=\"text-align: right;\">\n",
       "      <th></th>\n",
       "      <th>사업장명</th>\n",
       "      <th>소재지전체주소</th>\n",
       "      <th>도로명전체주소</th>\n",
       "    </tr>\n",
       "    <tr>\n",
       "      <th>﻿\"번호\"</th>\n",
       "      <th></th>\n",
       "      <th></th>\n",
       "      <th></th>\n",
       "    </tr>\n",
       "  </thead>\n",
       "  <tbody>\n",
       "    <tr>\n",
       "      <th>1</th>\n",
       "      <td>유리성휴게점</td>\n",
       "      <td>제주특별자치도 서귀포시 색달동 2950-23번지</td>\n",
       "      <td>NaN</td>\n",
       "    </tr>\n",
       "    <tr>\n",
       "      <th>2</th>\n",
       "      <td>천제 푸드트럭</td>\n",
       "      <td>제주특별자치도 서귀포시 중문동 2232번지</td>\n",
       "      <td>제주특별자치도 서귀포시 천제연로 132 (중문동)</td>\n",
       "    </tr>\n",
       "    <tr>\n",
       "      <th>3</th>\n",
       "      <td>중문푸드트럭</td>\n",
       "      <td>제주특별자치도 서귀포시 중문동 2232번지</td>\n",
       "      <td>제주특별자치도 서귀포시 천제연로 132 (중문동)</td>\n",
       "    </tr>\n",
       "    <tr>\n",
       "      <th>4</th>\n",
       "      <td>스트린런치푸드트럭</td>\n",
       "      <td>제주특별자치도 서귀포시 중문동 2503번지</td>\n",
       "      <td>NaN</td>\n",
       "    </tr>\n",
       "    <tr>\n",
       "      <th>5</th>\n",
       "      <td>팜랜드 푸드트럭</td>\n",
       "      <td>경기도 안성시 공도읍 신두리 451번지</td>\n",
       "      <td>경기도 안성시 공도읍 대신두길 28</td>\n",
       "    </tr>\n",
       "  </tbody>\n",
       "</table>\n",
       "</div>"
      ],
      "text/plain": [
       "            사업장명                      소재지전체주소                      도로명전체주소\n",
       "﻿\"번호\"                                                                     \n",
       "1         유리성휴게점  제주특별자치도 서귀포시 색달동 2950-23번지                           NaN\n",
       "2        천제 푸드트럭     제주특별자치도 서귀포시 중문동 2232번지   제주특별자치도 서귀포시 천제연로 132 (중문동)\n",
       "3         중문푸드트럭     제주특별자치도 서귀포시 중문동 2232번지   제주특별자치도 서귀포시 천제연로 132 (중문동)\n",
       "4      스트린런치푸드트럭     제주특별자치도 서귀포시 중문동 2503번지                           NaN\n",
       "5       팜랜드 푸드트럭       경기도 안성시 공도읍 신두리 451번지           경기도 안성시 공도읍 대신두길 28"
      ]
     },
     "execution_count": 7,
     "metadata": {},
     "output_type": "execute_result"
    }
   ],
   "source": [
    "ft_locs = ft_locs.drop_duplicates()\n",
    "ft_locs.head()"
   ]
  },
  {
   "cell_type": "code",
   "execution_count": 8,
   "metadata": {
    "collapsed": false
   },
   "outputs": [
    {
     "data": {
      "text/html": [
       "<div>\n",
       "<table border=\"1\" class=\"dataframe\">\n",
       "  <thead>\n",
       "    <tr style=\"text-align: right;\">\n",
       "      <th></th>\n",
       "      <th>사업장명</th>\n",
       "      <th>소재지전체주소</th>\n",
       "      <th>도로명전체주소</th>\n",
       "    </tr>\n",
       "    <tr>\n",
       "      <th>﻿\"번호\"</th>\n",
       "      <th></th>\n",
       "      <th></th>\n",
       "      <th></th>\n",
       "    </tr>\n",
       "  </thead>\n",
       "  <tbody>\n",
       "    <tr>\n",
       "      <th>1</th>\n",
       "      <td>유리성휴게점</td>\n",
       "      <td>제주특별자치도 서귀포시 색달동 2950-23번지</td>\n",
       "      <td>NaN</td>\n",
       "    </tr>\n",
       "    <tr>\n",
       "      <th>2</th>\n",
       "      <td>천제 푸드트럭</td>\n",
       "      <td>제주특별자치도 서귀포시 중문동 2232번지</td>\n",
       "      <td>제주특별자치도 서귀포시 천제연로 132 (중문동)</td>\n",
       "    </tr>\n",
       "    <tr>\n",
       "      <th>3</th>\n",
       "      <td>중문푸드트럭</td>\n",
       "      <td>제주특별자치도 서귀포시 중문동 2232번지</td>\n",
       "      <td>제주특별자치도 서귀포시 천제연로 132 (중문동)</td>\n",
       "    </tr>\n",
       "    <tr>\n",
       "      <th>4</th>\n",
       "      <td>스트린런치푸드트럭</td>\n",
       "      <td>제주특별자치도 서귀포시 중문동 2503번지</td>\n",
       "      <td>NaN</td>\n",
       "    </tr>\n",
       "    <tr>\n",
       "      <th>5</th>\n",
       "      <td>팜랜드 푸드트럭</td>\n",
       "      <td>경기도 안성시 공도읍 신두리 451번지</td>\n",
       "      <td>경기도 안성시 공도읍 대신두길 28</td>\n",
       "    </tr>\n",
       "  </tbody>\n",
       "</table>\n",
       "</div>"
      ],
      "text/plain": [
       "            사업장명                      소재지전체주소                      도로명전체주소\n",
       "﻿\"번호\"                                                                     \n",
       "1         유리성휴게점  제주특별자치도 서귀포시 색달동 2950-23번지                           NaN\n",
       "2        천제 푸드트럭     제주특별자치도 서귀포시 중문동 2232번지   제주특별자치도 서귀포시 천제연로 132 (중문동)\n",
       "3         중문푸드트럭     제주특별자치도 서귀포시 중문동 2232번지   제주특별자치도 서귀포시 천제연로 132 (중문동)\n",
       "4      스트린런치푸드트럭     제주특별자치도 서귀포시 중문동 2503번지                           NaN\n",
       "5       팜랜드 푸드트럭       경기도 안성시 공도읍 신두리 451번지           경기도 안성시 공도읍 대신두길 28"
      ]
     },
     "execution_count": 8,
     "metadata": {},
     "output_type": "execute_result"
    }
   ],
   "source": [
    "ft_locs = ft_locs.dropna(how=\"all\")\n",
    "ft_locs.head()"
   ]
  },
  {
   "cell_type": "code",
   "execution_count": 9,
   "metadata": {
    "collapsed": false
   },
   "outputs": [
    {
     "data": {
      "text/html": [
       "<div>\n",
       "<table border=\"1\" class=\"dataframe\">\n",
       "  <thead>\n",
       "    <tr style=\"text-align: right;\">\n",
       "      <th></th>\n",
       "      <th>사업장명</th>\n",
       "      <th>소재지전체주소</th>\n",
       "      <th>도로명전체주소</th>\n",
       "      <th>정리한전체주소</th>\n",
       "    </tr>\n",
       "    <tr>\n",
       "      <th>﻿\"번호\"</th>\n",
       "      <th></th>\n",
       "      <th></th>\n",
       "      <th></th>\n",
       "      <th></th>\n",
       "    </tr>\n",
       "  </thead>\n",
       "  <tbody>\n",
       "    <tr>\n",
       "      <th>1</th>\n",
       "      <td>유리성휴게점</td>\n",
       "      <td>제주특별자치도 서귀포시 색달동 2950-23번지</td>\n",
       "      <td>NaN</td>\n",
       "      <td>제주특별자치도 서귀포시 색달동 2950-23번지</td>\n",
       "    </tr>\n",
       "    <tr>\n",
       "      <th>2</th>\n",
       "      <td>천제 푸드트럭</td>\n",
       "      <td>제주특별자치도 서귀포시 중문동 2232번지</td>\n",
       "      <td>제주특별자치도 서귀포시 천제연로 132 (중문동)</td>\n",
       "      <td>제주특별자치도 서귀포시 중문동 2232번지</td>\n",
       "    </tr>\n",
       "    <tr>\n",
       "      <th>3</th>\n",
       "      <td>중문푸드트럭</td>\n",
       "      <td>제주특별자치도 서귀포시 중문동 2232번지</td>\n",
       "      <td>제주특별자치도 서귀포시 천제연로 132 (중문동)</td>\n",
       "      <td>제주특별자치도 서귀포시 중문동 2232번지</td>\n",
       "    </tr>\n",
       "    <tr>\n",
       "      <th>4</th>\n",
       "      <td>스트린런치푸드트럭</td>\n",
       "      <td>제주특별자치도 서귀포시 중문동 2503번지</td>\n",
       "      <td>NaN</td>\n",
       "      <td>제주특별자치도 서귀포시 중문동 2503번지</td>\n",
       "    </tr>\n",
       "    <tr>\n",
       "      <th>5</th>\n",
       "      <td>팜랜드 푸드트럭</td>\n",
       "      <td>경기도 안성시 공도읍 신두리 451번지</td>\n",
       "      <td>경기도 안성시 공도읍 대신두길 28</td>\n",
       "      <td>경기도 안성시 공도읍 신두리 451번지</td>\n",
       "    </tr>\n",
       "  </tbody>\n",
       "</table>\n",
       "</div>"
      ],
      "text/plain": [
       "            사업장명                      소재지전체주소                      도로명전체주소  \\\n",
       "﻿\"번호\"                                                                        \n",
       "1         유리성휴게점  제주특별자치도 서귀포시 색달동 2950-23번지                           NaN   \n",
       "2        천제 푸드트럭     제주특별자치도 서귀포시 중문동 2232번지   제주특별자치도 서귀포시 천제연로 132 (중문동)   \n",
       "3         중문푸드트럭     제주특별자치도 서귀포시 중문동 2232번지   제주특별자치도 서귀포시 천제연로 132 (중문동)   \n",
       "4      스트린런치푸드트럭     제주특별자치도 서귀포시 중문동 2503번지                           NaN   \n",
       "5       팜랜드 푸드트럭       경기도 안성시 공도읍 신두리 451번지           경기도 안성시 공도읍 대신두길 28   \n",
       "\n",
       "                           정리한전체주소  \n",
       "﻿\"번호\"                               \n",
       "1      제주특별자치도 서귀포시 색달동 2950-23번지   \n",
       "2         제주특별자치도 서귀포시 중문동 2232번지   \n",
       "3         제주특별자치도 서귀포시 중문동 2232번지   \n",
       "4         제주특별자치도 서귀포시 중문동 2503번지   \n",
       "5           경기도 안성시 공도읍 신두리 451번지   "
      ]
     },
     "execution_count": 9,
     "metadata": {},
     "output_type": "execute_result"
    }
   ],
   "source": [
    "ft_locs[\"정리한전체주소\"] =ft_locs['소재지전체주소']\n",
    "ft_locs.head()"
   ]
  },
  {
   "cell_type": "code",
   "execution_count": 10,
   "metadata": {
    "collapsed": false
   },
   "outputs": [
    {
     "data": {
      "text/html": [
       "<div>\n",
       "<table border=\"1\" class=\"dataframe\">\n",
       "  <thead>\n",
       "    <tr style=\"text-align: right;\">\n",
       "      <th></th>\n",
       "      <th>사업장명</th>\n",
       "      <th>소재지전체주소</th>\n",
       "      <th>도로명전체주소</th>\n",
       "      <th>정리한전체주소</th>\n",
       "    </tr>\n",
       "    <tr>\n",
       "      <th>﻿\"번호\"</th>\n",
       "      <th></th>\n",
       "      <th></th>\n",
       "      <th></th>\n",
       "      <th></th>\n",
       "    </tr>\n",
       "  </thead>\n",
       "  <tbody>\n",
       "    <tr>\n",
       "      <th>1</th>\n",
       "      <td>유리성휴게점</td>\n",
       "      <td>제주특별자치도 서귀포시 색달동 2950-23번지</td>\n",
       "      <td>NaN</td>\n",
       "      <td>제주특별자치도 서귀포시 색달동 2950-23번지</td>\n",
       "    </tr>\n",
       "    <tr>\n",
       "      <th>2</th>\n",
       "      <td>천제 푸드트럭</td>\n",
       "      <td>제주특별자치도 서귀포시 중문동 2232번지</td>\n",
       "      <td>제주특별자치도 서귀포시 천제연로 132 (중문동)</td>\n",
       "      <td>제주특별자치도 서귀포시 중문동 2232번지</td>\n",
       "    </tr>\n",
       "    <tr>\n",
       "      <th>3</th>\n",
       "      <td>중문푸드트럭</td>\n",
       "      <td>제주특별자치도 서귀포시 중문동 2232번지</td>\n",
       "      <td>제주특별자치도 서귀포시 천제연로 132 (중문동)</td>\n",
       "      <td>제주특별자치도 서귀포시 중문동 2232번지</td>\n",
       "    </tr>\n",
       "    <tr>\n",
       "      <th>4</th>\n",
       "      <td>스트린런치푸드트럭</td>\n",
       "      <td>제주특별자치도 서귀포시 중문동 2503번지</td>\n",
       "      <td>NaN</td>\n",
       "      <td>제주특별자치도 서귀포시 중문동 2503번지</td>\n",
       "    </tr>\n",
       "    <tr>\n",
       "      <th>5</th>\n",
       "      <td>팜랜드 푸드트럭</td>\n",
       "      <td>경기도 안성시 공도읍 신두리 451번지</td>\n",
       "      <td>경기도 안성시 공도읍 대신두길 28</td>\n",
       "      <td>경기도 안성시 공도읍 신두리 451번지</td>\n",
       "    </tr>\n",
       "  </tbody>\n",
       "</table>\n",
       "</div>"
      ],
      "text/plain": [
       "            사업장명                      소재지전체주소                      도로명전체주소  \\\n",
       "﻿\"번호\"                                                                        \n",
       "1         유리성휴게점  제주특별자치도 서귀포시 색달동 2950-23번지                           NaN   \n",
       "2        천제 푸드트럭     제주특별자치도 서귀포시 중문동 2232번지   제주특별자치도 서귀포시 천제연로 132 (중문동)   \n",
       "3         중문푸드트럭     제주특별자치도 서귀포시 중문동 2232번지   제주특별자치도 서귀포시 천제연로 132 (중문동)   \n",
       "4      스트린런치푸드트럭     제주특별자치도 서귀포시 중문동 2503번지                           NaN   \n",
       "5       팜랜드 푸드트럭       경기도 안성시 공도읍 신두리 451번지           경기도 안성시 공도읍 대신두길 28   \n",
       "\n",
       "                           정리한전체주소  \n",
       "﻿\"번호\"                               \n",
       "1      제주특별자치도 서귀포시 색달동 2950-23번지   \n",
       "2         제주특별자치도 서귀포시 중문동 2232번지   \n",
       "3         제주특별자치도 서귀포시 중문동 2232번지   \n",
       "4         제주특별자치도 서귀포시 중문동 2503번지   \n",
       "5           경기도 안성시 공도읍 신두리 451번지   "
      ]
     },
     "execution_count": 10,
     "metadata": {},
     "output_type": "execute_result"
    }
   ],
   "source": [
    "ft_locs['정리한전체주소'].fillna(ft_locs['도로명전체주소'])\n",
    "ft_locs.head()"
   ]
  },
  {
   "cell_type": "code",
   "execution_count": 11,
   "metadata": {
    "collapsed": true
   },
   "outputs": [],
   "source": [
    "ft_locs = pd.DataFrame(ft_locs[['사업장명','정리한전체주소']])\n",
    "ft_locs = ft_locs.dropna(subset=['정리한전체주소'], how='any')"
   ]
  },
  {
   "cell_type": "code",
   "execution_count": 12,
   "metadata": {
    "collapsed": false
   },
   "outputs": [
    {
     "data": {
      "text/html": [
       "<div>\n",
       "<table border=\"1\" class=\"dataframe\">\n",
       "  <thead>\n",
       "    <tr style=\"text-align: right;\">\n",
       "      <th></th>\n",
       "      <th>사업장명</th>\n",
       "      <th>정리한전체주소</th>\n",
       "    </tr>\n",
       "    <tr>\n",
       "      <th>﻿\"번호\"</th>\n",
       "      <th></th>\n",
       "      <th></th>\n",
       "    </tr>\n",
       "  </thead>\n",
       "  <tbody>\n",
       "    <tr>\n",
       "      <th>1</th>\n",
       "      <td>유리성휴게점</td>\n",
       "      <td>제주특별자치도 서귀포시 색달동 2950-23번지</td>\n",
       "    </tr>\n",
       "    <tr>\n",
       "      <th>2</th>\n",
       "      <td>천제 푸드트럭</td>\n",
       "      <td>제주특별자치도 서귀포시 중문동 2232번지</td>\n",
       "    </tr>\n",
       "    <tr>\n",
       "      <th>3</th>\n",
       "      <td>중문푸드트럭</td>\n",
       "      <td>제주특별자치도 서귀포시 중문동 2232번지</td>\n",
       "    </tr>\n",
       "    <tr>\n",
       "      <th>4</th>\n",
       "      <td>스트린런치푸드트럭</td>\n",
       "      <td>제주특별자치도 서귀포시 중문동 2503번지</td>\n",
       "    </tr>\n",
       "    <tr>\n",
       "      <th>5</th>\n",
       "      <td>팜랜드 푸드트럭</td>\n",
       "      <td>경기도 안성시 공도읍 신두리 451번지</td>\n",
       "    </tr>\n",
       "    <tr>\n",
       "      <th>6</th>\n",
       "      <td>나사트레일러커피</td>\n",
       "      <td>경기도 화성시 봉담읍 하가등리 107-1번지 화성그린환경센터 주민편익시설 내</td>\n",
       "    </tr>\n",
       "    <tr>\n",
       "      <th>7</th>\n",
       "      <td>시현이네(푸드트럭)</td>\n",
       "      <td>경기도 남양주시 이패동 산 87번지 남양주종합운동장내푸드트럭/실내체육관 정문광장 오른쪽</td>\n",
       "    </tr>\n",
       "    <tr>\n",
       "      <th>8</th>\n",
       "      <td>푸드트럭(악양둑방)</td>\n",
       "      <td>경상남도 함안군 법수면 윤외리 104-2번지 악양 둑방 내</td>\n",
       "    </tr>\n",
       "    <tr>\n",
       "      <th>9</th>\n",
       "      <td>부여커피푸드트럭</td>\n",
       "      <td>충청남도 부여군 규암면 반산리 172번지</td>\n",
       "    </tr>\n",
       "    <tr>\n",
       "      <th>10</th>\n",
       "      <td>어바웃커피</td>\n",
       "      <td>대전광역시 유성구 봉명동 700번지 갑천변</td>\n",
       "    </tr>\n",
       "    <tr>\n",
       "      <th>11</th>\n",
       "      <td>경천대 푸드트럭 휴게소</td>\n",
       "      <td>경상북도 상주시 사벌면 삼덕리 3-3번지</td>\n",
       "    </tr>\n",
       "    <tr>\n",
       "      <th>12</th>\n",
       "      <td>쉼터작은공간</td>\n",
       "      <td>인천광역시 계양구 평동 23-12번지 경인아라뱃길푸드트럭 일반존I(인천) 벌말교7</td>\n",
       "    </tr>\n",
       "    <tr>\n",
       "      <th>13</th>\n",
       "      <td>호끌락</td>\n",
       "      <td>제주특별자치도 제주시 건입동 505-2번지 일원</td>\n",
       "    </tr>\n",
       "    <tr>\n",
       "      <th>14</th>\n",
       "      <td>Cafe solo(카페솔로)</td>\n",
       "      <td>인천광역시 서구 시천동 119-4번지 시천교8</td>\n",
       "    </tr>\n",
       "    <tr>\n",
       "      <th>15</th>\n",
       "      <td>브라움카페</td>\n",
       "      <td>대구광역시 중구 대봉동 0214-0031번지 신천둔치 푸드트럭 제2호</td>\n",
       "    </tr>\n",
       "  </tbody>\n",
       "</table>\n",
       "</div>"
      ],
      "text/plain": [
       "                  사업장명                                            정리한전체주소\n",
       "﻿\"번호\"                                                                    \n",
       "1               유리성휴게점                        제주특별자치도 서귀포시 색달동 2950-23번지 \n",
       "2              천제 푸드트럭                           제주특별자치도 서귀포시 중문동 2232번지 \n",
       "3               중문푸드트럭                           제주특별자치도 서귀포시 중문동 2232번지 \n",
       "4            스트린런치푸드트럭                           제주특별자치도 서귀포시 중문동 2503번지 \n",
       "5             팜랜드 푸드트럭                             경기도 안성시 공도읍 신두리 451번지 \n",
       "6             나사트레일러커피        경기도 화성시 봉담읍 하가등리 107-1번지 화성그린환경센터 주민편익시설 내 \n",
       "7           시현이네(푸드트럭)  경기도 남양주시 이패동 산 87번지 남양주종합운동장내푸드트럭/실내체육관 정문광장 오른쪽 \n",
       "8           푸드트럭(악양둑방)                  경상남도 함안군 법수면 윤외리 104-2번지 악양 둑방 내 \n",
       "9             부여커피푸드트럭                            충청남도 부여군 규암면 반산리 172번지 \n",
       "10               어바웃커피                           대전광역시 유성구 봉명동 700번지 갑천변 \n",
       "11        경천대 푸드트럭 휴게소                            경상북도 상주시 사벌면 삼덕리 3-3번지 \n",
       "12              쉼터작은공간     인천광역시 계양구 평동 23-12번지 경인아라뱃길푸드트럭 일반존I(인천) 벌말교7 \n",
       "13                 호끌락                        제주특별자치도 제주시 건입동 505-2번지 일원 \n",
       "14     Cafe solo(카페솔로)                         인천광역시 서구 시천동 119-4번지 시천교8 \n",
       "15               브라움카페            대구광역시 중구 대봉동 0214-0031번지 신천둔치 푸드트럭 제2호 "
      ]
     },
     "execution_count": 12,
     "metadata": {},
     "output_type": "execute_result"
    }
   ],
   "source": [
    "ft_locs.head(n=15)"
   ]
  },
  {
   "cell_type": "code",
   "execution_count": 13,
   "metadata": {
    "collapsed": false
   },
   "outputs": [],
   "source": [
    "ft_locs_cut = pd.DataFrame(ft_locs['정리한전체주소'].apply(lambda v: v.split()[:2]).tolist(),\n",
    "                        columns=('d1', 'd2'))"
   ]
  },
  {
   "cell_type": "code",
   "execution_count": 14,
   "metadata": {
    "collapsed": true
   },
   "outputs": [],
   "source": [
    "d2_aliases = \"\"\"연기면:세종특별자치시 금남면:세종특별자치시 조치원읍:세종특별자치시 어진동:세종특별자치시 한솔동:세종특별자치시 아름동:세종특별자치시\"\"\""
   ]
  },
  {
   "cell_type": "code",
   "execution_count": 15,
   "metadata": {
    "collapsed": false
   },
   "outputs": [
    {
     "data": {
      "text/plain": [
       "array(['제주특별자치도', '경기도', '경상남도', '충청남도', '대전광역시', '경상북도', '인천광역시',\n",
       "       '대구광역시', '서울특별시', '강원도', '광주광역시', '세종특별자치시', '전라남도', '부산광역시',\n",
       "       '울산광역시', '충청북도', '전라북도'], dtype=object)"
      ]
     },
     "execution_count": 15,
     "metadata": {},
     "output_type": "execute_result"
    }
   ],
   "source": [
    "ft_locs_cut['d1'].unique()"
   ]
  },
  {
   "cell_type": "code",
   "execution_count": 16,
   "metadata": {
    "collapsed": false
   },
   "outputs": [
    {
     "data": {
      "text/plain": [
       "array(['서귀포시', '안성시', '화성시', '남양주시', '함안군', '부여군', '유성구', '상주시', '계양구',\n",
       "       '제주시', '서구', '중구', '영등포구', '평창군', '춘천시', '마포구', '동구', '성동구', '수원시',\n",
       "       '사천시', '연기면', '고흥군', '수성구', '남해군', '안양시', '평택시', '대덕구', '칠곡군',\n",
       "       '북구', '서초구', '조치원읍', '종로구', '공주시', '아산시', '부산진구', '금산군', '사상구',\n",
       "       '남구', '안산시', '부평구', '양평군', '금천구', '해운대구', '어진동', '양주시', '완도군',\n",
       "       '거창군', '고양시', '보성군', '의성군', '김해시', '기장군', '강남구', '강릉시', '송파구',\n",
       "       '통영시', '강화군', '동해시', '가평군', '광진구', '강서구', '양산시', '의왕시', '과천시',\n",
       "       '양천구', '성남시', '함양군', '창녕군', '청주시', '용인시', '신안군', '인제군', '홍천군',\n",
       "       '오산시', '청양군', '당진시', '하동군', '은평구', '의령군', '부천시', '동작구', '김포시',\n",
       "       '횡성군', '경주시', '군산시', '의정부시', '밀양시', '문경시', '충주시', '천안시', '부안군',\n",
       "       '포항시', '광주시', '달서구', '익산시', '이천시', '남동구', '광산구', '강동구', '중랑구',\n",
       "       '구로구', '연천군', '파주시', '진주시', '창원시', '도봉구', '거제시', '경산시', '연제구',\n",
       "       '서대문구', '장흥군', '하남시', '금정구', '관악구', '연수구', '동두천시', '태안군', '양양군',\n",
       "       '예산군', '사하구', '동래구', '구미시', '진천군', '철원군', '화순군', '노원구', '김제시',\n",
       "       '고창군', '고성군', '여주시', '정선군', '광명시', '영도구', '영덕군', '괴산군', '삼척시',\n",
       "       '원주시', '전주시', '합천군', '무안군', '울주군', '시흥시', '군포시', '아름동', '강북구',\n",
       "       '달성군', '산청군', '미추홀구', '양구군', '서천군', '남원시', '한솔동', '함평군', '음성군',\n",
       "       '제천시', '여수시'], dtype=object)"
      ]
     },
     "execution_count": 16,
     "metadata": {},
     "output_type": "execute_result"
    }
   ],
   "source": [
    "ft_locs_cut['d2'].unique()"
   ]
  },
  {
   "cell_type": "code",
   "execution_count": 17,
   "metadata": {
    "collapsed": false
   },
   "outputs": [
    {
     "data": {
      "text/html": [
       "<div>\n",
       "<table border=\"1\" class=\"dataframe\">\n",
       "  <thead>\n",
       "    <tr style=\"text-align: right;\">\n",
       "      <th></th>\n",
       "      <th>d1</th>\n",
       "      <th>d2</th>\n",
       "    </tr>\n",
       "  </thead>\n",
       "  <tbody>\n",
       "    <tr>\n",
       "      <th>29</th>\n",
       "      <td>세종특별자치시</td>\n",
       "      <td>연기면</td>\n",
       "    </tr>\n",
       "    <tr>\n",
       "      <th>30</th>\n",
       "      <td>세종특별자치시</td>\n",
       "      <td>연기면</td>\n",
       "    </tr>\n",
       "    <tr>\n",
       "      <th>31</th>\n",
       "      <td>세종특별자치시</td>\n",
       "      <td>연기면</td>\n",
       "    </tr>\n",
       "    <tr>\n",
       "      <th>32</th>\n",
       "      <td>세종특별자치시</td>\n",
       "      <td>연기면</td>\n",
       "    </tr>\n",
       "    <tr>\n",
       "      <th>33</th>\n",
       "      <td>세종특별자치시</td>\n",
       "      <td>연기면</td>\n",
       "    </tr>\n",
       "    <tr>\n",
       "      <th>34</th>\n",
       "      <td>세종특별자치시</td>\n",
       "      <td>연기면</td>\n",
       "    </tr>\n",
       "    <tr>\n",
       "      <th>35</th>\n",
       "      <td>세종특별자치시</td>\n",
       "      <td>연기면</td>\n",
       "    </tr>\n",
       "    <tr>\n",
       "      <th>36</th>\n",
       "      <td>세종특별자치시</td>\n",
       "      <td>연기면</td>\n",
       "    </tr>\n",
       "    <tr>\n",
       "      <th>61</th>\n",
       "      <td>세종특별자치시</td>\n",
       "      <td>조치원읍</td>\n",
       "    </tr>\n",
       "    <tr>\n",
       "      <th>125</th>\n",
       "      <td>세종특별자치시</td>\n",
       "      <td>어진동</td>\n",
       "    </tr>\n",
       "    <tr>\n",
       "      <th>154</th>\n",
       "      <td>세종특별자치시</td>\n",
       "      <td>연기면</td>\n",
       "    </tr>\n",
       "    <tr>\n",
       "      <th>173</th>\n",
       "      <td>세종특별자치시</td>\n",
       "      <td>조치원읍</td>\n",
       "    </tr>\n",
       "    <tr>\n",
       "      <th>174</th>\n",
       "      <td>세종특별자치시</td>\n",
       "      <td>조치원읍</td>\n",
       "    </tr>\n",
       "    <tr>\n",
       "      <th>175</th>\n",
       "      <td>세종특별자치시</td>\n",
       "      <td>조치원읍</td>\n",
       "    </tr>\n",
       "    <tr>\n",
       "      <th>211</th>\n",
       "      <td>세종특별자치시</td>\n",
       "      <td>조치원읍</td>\n",
       "    </tr>\n",
       "    <tr>\n",
       "      <th>212</th>\n",
       "      <td>세종특별자치시</td>\n",
       "      <td>조치원읍</td>\n",
       "    </tr>\n",
       "    <tr>\n",
       "      <th>213</th>\n",
       "      <td>세종특별자치시</td>\n",
       "      <td>조치원읍</td>\n",
       "    </tr>\n",
       "    <tr>\n",
       "      <th>316</th>\n",
       "      <td>세종특별자치시</td>\n",
       "      <td>조치원읍</td>\n",
       "    </tr>\n",
       "    <tr>\n",
       "      <th>484</th>\n",
       "      <td>세종특별자치시</td>\n",
       "      <td>조치원읍</td>\n",
       "    </tr>\n",
       "    <tr>\n",
       "      <th>658</th>\n",
       "      <td>세종특별자치시</td>\n",
       "      <td>어진동</td>\n",
       "    </tr>\n",
       "    <tr>\n",
       "      <th>688</th>\n",
       "      <td>세종특별자치시</td>\n",
       "      <td>조치원읍</td>\n",
       "    </tr>\n",
       "    <tr>\n",
       "      <th>710</th>\n",
       "      <td>세종특별자치시</td>\n",
       "      <td>어진동</td>\n",
       "    </tr>\n",
       "    <tr>\n",
       "      <th>714</th>\n",
       "      <td>세종특별자치시</td>\n",
       "      <td>어진동</td>\n",
       "    </tr>\n",
       "    <tr>\n",
       "      <th>809</th>\n",
       "      <td>세종특별자치시</td>\n",
       "      <td>조치원읍</td>\n",
       "    </tr>\n",
       "    <tr>\n",
       "      <th>1086</th>\n",
       "      <td>세종특별자치시</td>\n",
       "      <td>연기면</td>\n",
       "    </tr>\n",
       "    <tr>\n",
       "      <th>1104</th>\n",
       "      <td>세종특별자치시</td>\n",
       "      <td>아름동</td>\n",
       "    </tr>\n",
       "    <tr>\n",
       "      <th>1114</th>\n",
       "      <td>세종특별자치시</td>\n",
       "      <td>아름동</td>\n",
       "    </tr>\n",
       "    <tr>\n",
       "      <th>1176</th>\n",
       "      <td>세종특별자치시</td>\n",
       "      <td>어진동</td>\n",
       "    </tr>\n",
       "    <tr>\n",
       "      <th>1177</th>\n",
       "      <td>세종특별자치시</td>\n",
       "      <td>어진동</td>\n",
       "    </tr>\n",
       "    <tr>\n",
       "      <th>1309</th>\n",
       "      <td>세종특별자치시</td>\n",
       "      <td>연기면</td>\n",
       "    </tr>\n",
       "    <tr>\n",
       "      <th>1312</th>\n",
       "      <td>세종특별자치시</td>\n",
       "      <td>연기면</td>\n",
       "    </tr>\n",
       "    <tr>\n",
       "      <th>1313</th>\n",
       "      <td>세종특별자치시</td>\n",
       "      <td>한솔동</td>\n",
       "    </tr>\n",
       "    <tr>\n",
       "      <th>1450</th>\n",
       "      <td>세종특별자치시</td>\n",
       "      <td>어진동</td>\n",
       "    </tr>\n",
       "  </tbody>\n",
       "</table>\n",
       "</div>"
      ],
      "text/plain": [
       "           d1    d2\n",
       "29    세종특별자치시   연기면\n",
       "30    세종특별자치시   연기면\n",
       "31    세종특별자치시   연기면\n",
       "32    세종특별자치시   연기면\n",
       "33    세종특별자치시   연기면\n",
       "34    세종특별자치시   연기면\n",
       "35    세종특별자치시   연기면\n",
       "36    세종특별자치시   연기면\n",
       "61    세종특별자치시  조치원읍\n",
       "125   세종특별자치시   어진동\n",
       "154   세종특별자치시   연기면\n",
       "173   세종특별자치시  조치원읍\n",
       "174   세종특별자치시  조치원읍\n",
       "175   세종특별자치시  조치원읍\n",
       "211   세종특별자치시  조치원읍\n",
       "212   세종특별자치시  조치원읍\n",
       "213   세종특별자치시  조치원읍\n",
       "316   세종특별자치시  조치원읍\n",
       "484   세종특별자치시  조치원읍\n",
       "658   세종특별자치시   어진동\n",
       "688   세종특별자치시  조치원읍\n",
       "710   세종특별자치시   어진동\n",
       "714   세종특별자치시   어진동\n",
       "809   세종특별자치시  조치원읍\n",
       "1086  세종특별자치시   연기면\n",
       "1104  세종특별자치시   아름동\n",
       "1114  세종특별자치시   아름동\n",
       "1176  세종특별자치시   어진동\n",
       "1177  세종특별자치시   어진동\n",
       "1309  세종특별자치시   연기면\n",
       "1312  세종특별자치시   연기면\n",
       "1313  세종특별자치시   한솔동\n",
       "1450  세종특별자치시   어진동"
      ]
     },
     "execution_count": 17,
     "metadata": {},
     "output_type": "execute_result"
    }
   ],
   "source": [
    "ft_locs_cut[ft_locs_cut['d2'].apply(lambda v:v[-1] not in '시군구')]"
   ]
  },
  {
   "cell_type": "markdown",
   "metadata": {},
   "source": [
    "시군구에 속하지 않는 값들이 모두 세종특별자치시에 속해 찾아보니 구가 없고 읍면동으로만 구성 \n",
    "-> d2의 값들을 세종시로 지정"
   ]
  },
  {
   "cell_type": "code",
   "execution_count": 18,
   "metadata": {
    "collapsed": true
   },
   "outputs": [],
   "source": [
    "d2_aliases = \"\"\"연기면:세종특별자치시 금남면:세종특별자치시 조치원읍:세종특별자치시 어진동:세종특별자치시 한솔동:세종특별자치시 아름동:세종특별자치시\"\"\"\n"
   ]
  },
  {
   "cell_type": "code",
   "execution_count": 19,
   "metadata": {
    "collapsed": true
   },
   "outputs": [],
   "source": [
    "d2_aliases = dict(aliasset.split(':') for aliasset in d2_aliases.split())"
   ]
  },
  {
   "cell_type": "code",
   "execution_count": 20,
   "metadata": {
    "collapsed": false
   },
   "outputs": [],
   "source": [
    "ft_locs_cut['d2'] = ft_locs_cut['d2'].apply(lambda v: d2_aliases.get(v, v))"
   ]
  },
  {
   "cell_type": "code",
   "execution_count": 21,
   "metadata": {
    "collapsed": false
   },
   "outputs": [
    {
     "data": {
      "text/plain": [
       "array(['서귀포시', '안성시', '화성시', '남양주시', '함안군', '부여군', '유성구', '상주시', '계양구',\n",
       "       '제주시', '서구', '중구', '영등포구', '평창군', '춘천시', '마포구', '동구', '성동구', '수원시',\n",
       "       '사천시', '세종특별자치시', '고흥군', '수성구', '남해군', '안양시', '평택시', '대덕구', '칠곡군',\n",
       "       '북구', '서초구', '종로구', '공주시', '아산시', '부산진구', '금산군', '사상구', '남구',\n",
       "       '안산시', '부평구', '양평군', '금천구', '해운대구', '양주시', '완도군', '거창군', '고양시',\n",
       "       '보성군', '의성군', '김해시', '기장군', '강남구', '강릉시', '송파구', '통영시', '강화군',\n",
       "       '동해시', '가평군', '광진구', '강서구', '양산시', '의왕시', '과천시', '양천구', '성남시',\n",
       "       '함양군', '창녕군', '청주시', '용인시', '신안군', '인제군', '홍천군', '오산시', '청양군',\n",
       "       '당진시', '하동군', '은평구', '의령군', '부천시', '동작구', '김포시', '횡성군', '경주시',\n",
       "       '군산시', '의정부시', '밀양시', '문경시', '충주시', '천안시', '부안군', '포항시', '광주시',\n",
       "       '달서구', '익산시', '이천시', '남동구', '광산구', '강동구', '중랑구', '구로구', '연천군',\n",
       "       '파주시', '진주시', '창원시', '도봉구', '거제시', '경산시', '연제구', '서대문구', '장흥군',\n",
       "       '하남시', '금정구', '관악구', '연수구', '동두천시', '태안군', '양양군', '예산군', '사하구',\n",
       "       '동래구', '구미시', '진천군', '철원군', '화순군', '노원구', '김제시', '고창군', '고성군',\n",
       "       '여주시', '정선군', '광명시', '영도구', '영덕군', '괴산군', '삼척시', '원주시', '전주시',\n",
       "       '합천군', '무안군', '울주군', '시흥시', '군포시', '강북구', '달성군', '산청군', '미추홀구',\n",
       "       '양구군', '서천군', '남원시', '함평군', '음성군', '제천시', '여수시'], dtype=object)"
      ]
     },
     "execution_count": 21,
     "metadata": {},
     "output_type": "execute_result"
    }
   ],
   "source": [
    "ft_locs_cut['d2'].unique()"
   ]
  },
  {
   "cell_type": "code",
   "execution_count": 22,
   "metadata": {
    "collapsed": false
   },
   "outputs": [
    {
     "data": {
      "text/html": [
       "<div>\n",
       "<table border=\"1\" class=\"dataframe\">\n",
       "  <thead>\n",
       "    <tr style=\"text-align: right;\">\n",
       "      <th></th>\n",
       "      <th>d1</th>\n",
       "      <th>d2</th>\n",
       "      <th>전체주소</th>\n",
       "    </tr>\n",
       "  </thead>\n",
       "  <tbody>\n",
       "    <tr>\n",
       "      <th>0</th>\n",
       "      <td>제주특별자치도</td>\n",
       "      <td>서귀포시</td>\n",
       "      <td>제주특별자치도 서귀포시</td>\n",
       "    </tr>\n",
       "    <tr>\n",
       "      <th>1</th>\n",
       "      <td>제주특별자치도</td>\n",
       "      <td>서귀포시</td>\n",
       "      <td>제주특별자치도 서귀포시</td>\n",
       "    </tr>\n",
       "    <tr>\n",
       "      <th>2</th>\n",
       "      <td>제주특별자치도</td>\n",
       "      <td>서귀포시</td>\n",
       "      <td>제주특별자치도 서귀포시</td>\n",
       "    </tr>\n",
       "    <tr>\n",
       "      <th>3</th>\n",
       "      <td>제주특별자치도</td>\n",
       "      <td>서귀포시</td>\n",
       "      <td>제주특별자치도 서귀포시</td>\n",
       "    </tr>\n",
       "    <tr>\n",
       "      <th>4</th>\n",
       "      <td>경기도</td>\n",
       "      <td>안성시</td>\n",
       "      <td>경기도 안성시</td>\n",
       "    </tr>\n",
       "  </tbody>\n",
       "</table>\n",
       "</div>"
      ],
      "text/plain": [
       "        d1    d2          전체주소\n",
       "0  제주특별자치도  서귀포시  제주특별자치도 서귀포시\n",
       "1  제주특별자치도  서귀포시  제주특별자치도 서귀포시\n",
       "2  제주특별자치도  서귀포시  제주특별자치도 서귀포시\n",
       "3  제주특별자치도  서귀포시  제주특별자치도 서귀포시\n",
       "4      경기도   안성시       경기도 안성시"
      ]
     },
     "execution_count": 22,
     "metadata": {},
     "output_type": "execute_result"
    }
   ],
   "source": [
    "ft_locs_cut['전체주소'] = ft_locs_cut['d1']+[' ']+ft_locs_cut['d2'] \n",
    "ft_locs_cut.head()"
   ]
  },
  {
   "cell_type": "markdown",
   "metadata": {},
   "source": [
    "※ ft_locs_cut에서 추출한 값을 Series 형태로 저장"
   ]
  },
  {
   "cell_type": "code",
   "execution_count": 23,
   "metadata": {
    "collapsed": false
   },
   "outputs": [],
   "source": [
    "# tmp = ft_locs_cut['전체주소'].value_counts()\n",
    "\n",
    "# type(tmp)\n",
    "# tmp.head()\n"
   ]
  },
  {
   "cell_type": "code",
   "execution_count": 24,
   "metadata": {
    "collapsed": true
   },
   "outputs": [],
   "source": [
    "# tmp.index\n"
   ]
  },
  {
   "cell_type": "code",
   "execution_count": 25,
   "metadata": {
    "collapsed": true
   },
   "outputs": [],
   "source": [
    "# print(tmp['강원도 동해시'])\n"
   ]
  },
  {
   "cell_type": "markdown",
   "metadata": {},
   "source": [
    "※"
   ]
  },
  {
   "cell_type": "code",
   "execution_count": 26,
   "metadata": {
    "collapsed": false
   },
   "outputs": [
    {
     "data": {
      "text/plain": [
       "서울특별시 영등포구    137\n",
       "서울특별시 서초구     106\n",
       "서울특별시 중구       80\n",
       "경기도 수원시        46\n",
       "경상남도 김해시       33\n",
       "dtype: int64"
      ]
     },
     "execution_count": 26,
     "metadata": {},
     "output_type": "execute_result"
    }
   ],
   "source": [
    "F = ft_locs_cut.apply(lambda r: r['d1'] + ' '+ r['d2'], \n",
    "                      axis=1).value_counts()\n",
    "type(F)\n",
    "F.head()"
   ]
  },
  {
   "cell_type": "code",
   "execution_count": 27,
   "metadata": {
    "collapsed": false
   },
   "outputs": [
    {
     "data": {
      "text/html": [
       "<div>\n",
       "<table border=\"1\" class=\"dataframe\">\n",
       "  <thead>\n",
       "    <tr style=\"text-align: right;\">\n",
       "      <th></th>\n",
       "      <th>푸드트럭 수</th>\n",
       "    </tr>\n",
       "  </thead>\n",
       "  <tbody>\n",
       "    <tr>\n",
       "      <th>서울특별시 영등포구</th>\n",
       "      <td>137</td>\n",
       "    </tr>\n",
       "    <tr>\n",
       "      <th>서울특별시 서초구</th>\n",
       "      <td>106</td>\n",
       "    </tr>\n",
       "    <tr>\n",
       "      <th>서울특별시 중구</th>\n",
       "      <td>80</td>\n",
       "    </tr>\n",
       "    <tr>\n",
       "      <th>경기도 수원시</th>\n",
       "      <td>46</td>\n",
       "    </tr>\n",
       "    <tr>\n",
       "      <th>경상남도 김해시</th>\n",
       "      <td>33</td>\n",
       "    </tr>\n",
       "  </tbody>\n",
       "</table>\n",
       "</div>"
      ],
      "text/plain": [
       "            푸드트럭 수\n",
       "서울특별시 영등포구     137\n",
       "서울특별시 서초구      106\n",
       "서울특별시 중구        80\n",
       "경기도 수원시         46\n",
       "경상남도 김해시        33"
      ]
     },
     "execution_count": 27,
     "metadata": {},
     "output_type": "execute_result"
    }
   ],
   "source": [
    "FT = pd.DataFrame({'푸드트럭 수':F}).fillna(0)\n",
    "type(FT)\n",
    "FT.head()"
   ]
  },
  {
   "cell_type": "code",
   "execution_count": 28,
   "metadata": {
    "collapsed": false
   },
   "outputs": [
    {
     "data": {
      "text/plain": [
       "Index(['서울특별시 영등포구', '서울특별시 서초구', '서울특별시 중구', '경기도 수원시', '경상남도 김해시',\n",
       "       '세종특별자치시 세종특별자치시', '부산광역시 기장군', '서울특별시 마포구', '경기도 고양시', '서울특별시 종로구',\n",
       "       ...\n",
       "       '경상남도 함양군', '경상남도 하동군', '충청북도 음성군', '경상북도 경주시', '서울특별시 구로구', '경상북도 상주시',\n",
       "       '대구광역시 남구', '충청북도 진천군', '서울특별시 도봉구', '강원도 동해시'],\n",
       "      dtype='object', length=166)"
      ]
     },
     "execution_count": 28,
     "metadata": {},
     "output_type": "execute_result"
    }
   ],
   "source": [
    "FT.index"
   ]
  },
  {
   "cell_type": "code",
   "execution_count": 29,
   "metadata": {
    "collapsed": false
   },
   "outputs": [
    {
     "data": {
      "text/html": [
       "<div>\n",
       "<table border=\"1\" class=\"dataframe\">\n",
       "  <thead>\n",
       "    <tr style=\"text-align: right;\">\n",
       "      <th></th>\n",
       "      <th>푸드트럭 수</th>\n",
       "      <th>전체주소</th>\n",
       "    </tr>\n",
       "  </thead>\n",
       "  <tbody>\n",
       "    <tr>\n",
       "      <th>서울특별시 영등포구</th>\n",
       "      <td>137</td>\n",
       "      <td>서울특별시 영등포구</td>\n",
       "    </tr>\n",
       "    <tr>\n",
       "      <th>서울특별시 서초구</th>\n",
       "      <td>106</td>\n",
       "      <td>서울특별시 서초구</td>\n",
       "    </tr>\n",
       "    <tr>\n",
       "      <th>서울특별시 중구</th>\n",
       "      <td>80</td>\n",
       "      <td>서울특별시 중구</td>\n",
       "    </tr>\n",
       "    <tr>\n",
       "      <th>경기도 수원시</th>\n",
       "      <td>46</td>\n",
       "      <td>경기도 수원시</td>\n",
       "    </tr>\n",
       "    <tr>\n",
       "      <th>경상남도 김해시</th>\n",
       "      <td>33</td>\n",
       "      <td>경상남도 김해시</td>\n",
       "    </tr>\n",
       "  </tbody>\n",
       "</table>\n",
       "</div>"
      ],
      "text/plain": [
       "            푸드트럭 수        전체주소\n",
       "서울특별시 영등포구     137  서울특별시 영등포구\n",
       "서울특별시 서초구      106   서울특별시 서초구\n",
       "서울특별시 중구        80    서울특별시 중구\n",
       "경기도 수원시         46     경기도 수원시\n",
       "경상남도 김해시        33    경상남도 김해시"
      ]
     },
     "execution_count": 29,
     "metadata": {},
     "output_type": "execute_result"
    }
   ],
   "source": [
    "FT[\"전체주소\"] = FT.index\n",
    "FT.head()"
   ]
  },
  {
   "cell_type": "code",
   "execution_count": 30,
   "metadata": {
    "collapsed": false
   },
   "outputs": [
    {
     "data": {
      "text/html": [
       "<div>\n",
       "<table border=\"1\" class=\"dataframe\">\n",
       "  <thead>\n",
       "    <tr style=\"text-align: right;\">\n",
       "      <th></th>\n",
       "      <th>푸드트럭 수</th>\n",
       "      <th>전체주소</th>\n",
       "    </tr>\n",
       "  </thead>\n",
       "  <tbody>\n",
       "    <tr>\n",
       "      <th>0</th>\n",
       "      <td>137</td>\n",
       "      <td>서울특별시 영등포구</td>\n",
       "    </tr>\n",
       "    <tr>\n",
       "      <th>1</th>\n",
       "      <td>106</td>\n",
       "      <td>서울특별시 서초구</td>\n",
       "    </tr>\n",
       "    <tr>\n",
       "      <th>2</th>\n",
       "      <td>80</td>\n",
       "      <td>서울특별시 중구</td>\n",
       "    </tr>\n",
       "    <tr>\n",
       "      <th>3</th>\n",
       "      <td>46</td>\n",
       "      <td>경기도 수원시</td>\n",
       "    </tr>\n",
       "    <tr>\n",
       "      <th>4</th>\n",
       "      <td>33</td>\n",
       "      <td>경상남도 김해시</td>\n",
       "    </tr>\n",
       "  </tbody>\n",
       "</table>\n",
       "</div>"
      ],
      "text/plain": [
       "   푸드트럭 수        전체주소\n",
       "0     137  서울특별시 영등포구\n",
       "1     106   서울특별시 서초구\n",
       "2      80    서울특별시 중구\n",
       "3      46     경기도 수원시\n",
       "4      33    경상남도 김해시"
      ]
     },
     "execution_count": 30,
     "metadata": {},
     "output_type": "execute_result"
    }
   ],
   "source": [
    "FT = FT.reset_index(drop=True)\n",
    "FT.head()"
   ]
  },
  {
   "cell_type": "code",
   "execution_count": 31,
   "metadata": {
    "collapsed": false
   },
   "outputs": [
    {
     "data": {
      "text/html": [
       "<div>\n",
       "<table border=\"1\" class=\"dataframe\">\n",
       "  <thead>\n",
       "    <tr style=\"text-align: right;\">\n",
       "      <th></th>\n",
       "      <th>광역시도</th>\n",
       "      <th>행정구역</th>\n",
       "    </tr>\n",
       "  </thead>\n",
       "  <tbody>\n",
       "    <tr>\n",
       "      <th>0</th>\n",
       "      <td>서울특별시</td>\n",
       "      <td>영등포구</td>\n",
       "    </tr>\n",
       "    <tr>\n",
       "      <th>1</th>\n",
       "      <td>서울특별시</td>\n",
       "      <td>서초구</td>\n",
       "    </tr>\n",
       "    <tr>\n",
       "      <th>2</th>\n",
       "      <td>서울특별시</td>\n",
       "      <td>중구</td>\n",
       "    </tr>\n",
       "    <tr>\n",
       "      <th>3</th>\n",
       "      <td>경기도</td>\n",
       "      <td>수원시</td>\n",
       "    </tr>\n",
       "    <tr>\n",
       "      <th>4</th>\n",
       "      <td>경상남도</td>\n",
       "      <td>김해시</td>\n",
       "    </tr>\n",
       "  </tbody>\n",
       "</table>\n",
       "</div>"
      ],
      "text/plain": [
       "    광역시도  행정구역\n",
       "0  서울특별시  영등포구\n",
       "1  서울특별시   서초구\n",
       "2  서울특별시    중구\n",
       "3    경기도   수원시\n",
       "4   경상남도   김해시"
      ]
     },
     "execution_count": 31,
     "metadata": {},
     "output_type": "execute_result"
    }
   ],
   "source": [
    "num = pd.DataFrame(FT['전체주소'].apply(lambda v: v.split()[:2]).tolist(),\n",
    "                        columns=('광역시도', '행정구역'))\n",
    "num.head()"
   ]
  },
  {
   "cell_type": "code",
   "execution_count": 32,
   "metadata": {
    "collapsed": false
   },
   "outputs": [
    {
     "data": {
      "text/html": [
       "<div>\n",
       "<table border=\"1\" class=\"dataframe\">\n",
       "  <thead>\n",
       "    <tr style=\"text-align: right;\">\n",
       "      <th></th>\n",
       "      <th>광역시도</th>\n",
       "      <th>행정구역</th>\n",
       "      <th>푸드트럭 수</th>\n",
       "      <th>전체주소</th>\n",
       "    </tr>\n",
       "  </thead>\n",
       "  <tbody>\n",
       "    <tr>\n",
       "      <th>0</th>\n",
       "      <td>서울특별시</td>\n",
       "      <td>영등포구</td>\n",
       "      <td>137</td>\n",
       "      <td>서울특별시 영등포구</td>\n",
       "    </tr>\n",
       "    <tr>\n",
       "      <th>1</th>\n",
       "      <td>서울특별시</td>\n",
       "      <td>서초구</td>\n",
       "      <td>106</td>\n",
       "      <td>서울특별시 서초구</td>\n",
       "    </tr>\n",
       "    <tr>\n",
       "      <th>2</th>\n",
       "      <td>서울특별시</td>\n",
       "      <td>중구</td>\n",
       "      <td>80</td>\n",
       "      <td>서울특별시 중구</td>\n",
       "    </tr>\n",
       "    <tr>\n",
       "      <th>3</th>\n",
       "      <td>경기도</td>\n",
       "      <td>수원시</td>\n",
       "      <td>46</td>\n",
       "      <td>경기도 수원시</td>\n",
       "    </tr>\n",
       "    <tr>\n",
       "      <th>4</th>\n",
       "      <td>경상남도</td>\n",
       "      <td>김해시</td>\n",
       "      <td>33</td>\n",
       "      <td>경상남도 김해시</td>\n",
       "    </tr>\n",
       "  </tbody>\n",
       "</table>\n",
       "</div>"
      ],
      "text/plain": [
       "    광역시도  행정구역  푸드트럭 수        전체주소\n",
       "0  서울특별시  영등포구     137  서울특별시 영등포구\n",
       "1  서울특별시   서초구     106   서울특별시 서초구\n",
       "2  서울특별시    중구      80    서울특별시 중구\n",
       "3    경기도   수원시      46     경기도 수원시\n",
       "4   경상남도   김해시      33    경상남도 김해시"
      ]
     },
     "execution_count": 32,
     "metadata": {},
     "output_type": "execute_result"
    }
   ],
   "source": [
    "FT = pd.concat([num, FT], axis=1)\n",
    "FT.head()\n"
   ]
  },
  {
   "cell_type": "code",
   "execution_count": 33,
   "metadata": {
    "collapsed": false
   },
   "outputs": [
    {
     "data": {
      "text/plain": [
       "array([[202520, '강릉', 11, ..., 1040.07, '강원도', '강릉시'],\n",
       "       [25589, '고성(강원)', 9, ..., 664.19, '강원도', '고성군'],\n",
       "       [86747, '동해', 11, ..., 180.01, '강원도', '동해시'],\n",
       "       ...,\n",
       "       [62809, '진천', 5, ..., 406.08, '충청북도', '진천군'],\n",
       "       [790216, '청주', 6, ..., 932.51, '충청북도', '청주시'],\n",
       "       [198077, '충주', 6, ..., 983.7, '충청북도', '충주시']], dtype=object)"
      ]
     },
     "execution_count": 33,
     "metadata": {},
     "output_type": "execute_result"
    }
   ],
   "source": [
    "ft_latlon = pd.read_csv('C:\\deep\\\\foodtruck/data_draw_korea.csv', index_col=0,\n",
    "                        encoding='CP949') \n",
    "ft_latlon.values"
   ]
  },
  {
   "cell_type": "code",
   "execution_count": 34,
   "metadata": {
    "collapsed": false
   },
   "outputs": [
    {
     "data": {
      "text/plain": [
       "Int64Index([  0,   1,   2,   3,   4,   5,   6,   7,   8,   9,\n",
       "            ...\n",
       "            219, 220, 221, 222, 223, 224, 225, 226, 227, 228],\n",
       "           dtype='int64', length=229)"
      ]
     },
     "execution_count": 34,
     "metadata": {},
     "output_type": "execute_result"
    }
   ],
   "source": [
    "ft_latlon.index"
   ]
  },
  {
   "cell_type": "code",
   "execution_count": 35,
   "metadata": {
    "collapsed": false
   },
   "outputs": [
    {
     "data": {
      "text/plain": [
       "Index(['인구수', 'shortName', 'x', 'y', '면적', '광역시도', '행정구역'], dtype='object')"
      ]
     },
     "execution_count": 35,
     "metadata": {},
     "output_type": "execute_result"
    }
   ],
   "source": [
    "ft_latlon.columns\n"
   ]
  },
  {
   "cell_type": "code",
   "execution_count": 36,
   "metadata": {
    "collapsed": false
   },
   "outputs": [
    {
     "data": {
      "text/plain": [
       "Index(['광역시도', '행정구역', '푸드트럭 수', '전체주소'], dtype='object')"
      ]
     },
     "execution_count": 36,
     "metadata": {},
     "output_type": "execute_result"
    }
   ],
   "source": [
    "FT.columns"
   ]
  },
  {
   "cell_type": "code",
   "execution_count": 37,
   "metadata": {
    "collapsed": false
   },
   "outputs": [
    {
     "data": {
      "text/html": [
       "<div>\n",
       "<table border=\"1\" class=\"dataframe\">\n",
       "  <thead>\n",
       "    <tr style=\"text-align: right;\">\n",
       "      <th></th>\n",
       "      <th>광역시도</th>\n",
       "      <th>행정구역</th>\n",
       "      <th>푸드트럭 수</th>\n",
       "      <th>전체주소</th>\n",
       "      <th>인구수</th>\n",
       "      <th>shortName</th>\n",
       "      <th>x</th>\n",
       "      <th>y</th>\n",
       "      <th>면적</th>\n",
       "    </tr>\n",
       "  </thead>\n",
       "  <tbody>\n",
       "    <tr>\n",
       "      <th>0</th>\n",
       "      <td>서울특별시</td>\n",
       "      <td>영등포구</td>\n",
       "      <td>137.0</td>\n",
       "      <td>서울특별시 영등포구</td>\n",
       "      <td>351837.0</td>\n",
       "      <td>서울영등포</td>\n",
       "      <td>4.0</td>\n",
       "      <td>6.0</td>\n",
       "      <td>24.56</td>\n",
       "    </tr>\n",
       "    <tr>\n",
       "      <th>1</th>\n",
       "      <td>서울특별시</td>\n",
       "      <td>서초구</td>\n",
       "      <td>106.0</td>\n",
       "      <td>서울특별시 서초구</td>\n",
       "      <td>407416.0</td>\n",
       "      <td>서울서초</td>\n",
       "      <td>6.0</td>\n",
       "      <td>6.0</td>\n",
       "      <td>47.04</td>\n",
       "    </tr>\n",
       "    <tr>\n",
       "      <th>2</th>\n",
       "      <td>서울특별시</td>\n",
       "      <td>중구</td>\n",
       "      <td>80.0</td>\n",
       "      <td>서울특별시 중구</td>\n",
       "      <td>114967.0</td>\n",
       "      <td>서울중구</td>\n",
       "      <td>6.0</td>\n",
       "      <td>4.0</td>\n",
       "      <td>9.96</td>\n",
       "    </tr>\n",
       "    <tr>\n",
       "      <th>3</th>\n",
       "      <td>경기도</td>\n",
       "      <td>수원시</td>\n",
       "      <td>46.0</td>\n",
       "      <td>경기도 수원시</td>\n",
       "      <td>1125461.0</td>\n",
       "      <td>수원</td>\n",
       "      <td>6.0</td>\n",
       "      <td>9.0</td>\n",
       "      <td>121.09</td>\n",
       "    </tr>\n",
       "    <tr>\n",
       "      <th>4</th>\n",
       "      <td>경상남도</td>\n",
       "      <td>김해시</td>\n",
       "      <td>33.0</td>\n",
       "      <td>경상남도 김해시</td>\n",
       "      <td>500641.0</td>\n",
       "      <td>김해</td>\n",
       "      <td>8.0</td>\n",
       "      <td>19.0</td>\n",
       "      <td>463.26</td>\n",
       "    </tr>\n",
       "  </tbody>\n",
       "</table>\n",
       "</div>"
      ],
      "text/plain": [
       "    광역시도  행정구역  푸드트럭 수        전체주소        인구수 shortName    x     y      면적\n",
       "0  서울특별시  영등포구   137.0  서울특별시 영등포구   351837.0     서울영등포  4.0   6.0   24.56\n",
       "1  서울특별시   서초구   106.0   서울특별시 서초구   407416.0      서울서초  6.0   6.0   47.04\n",
       "2  서울특별시    중구    80.0    서울특별시 중구   114967.0      서울중구  6.0   4.0    9.96\n",
       "3    경기도   수원시    46.0     경기도 수원시  1125461.0        수원  6.0   9.0  121.09\n",
       "4   경상남도   김해시    33.0    경상남도 김해시   500641.0        김해  8.0  19.0  463.26"
      ]
     },
     "execution_count": 37,
     "metadata": {},
     "output_type": "execute_result"
    }
   ],
   "source": [
    "FT = pd.merge(FT, ft_latlon, how='outer')\n",
    "FT.head()"
   ]
  },
  {
   "cell_type": "code",
   "execution_count": 38,
   "metadata": {
    "collapsed": false
   },
   "outputs": [
    {
     "name": "stdout",
     "output_type": "stream",
     "text": [
      "null check, total: 231\n",
      "광역시도          0\n",
      "행정구역          0\n",
      "푸드트럭 수       65\n",
      "전체주소         65\n",
      "인구수           2\n",
      "shortName     2\n",
      "x             2\n",
      "y             2\n",
      "면적            2\n",
      "dtype: int64\n"
     ]
    }
   ],
   "source": [
    "print(\"null check, total:\", len(FT))\n",
    "print(FT.isnull().sum())\n"
   ]
  },
  {
   "cell_type": "markdown",
   "metadata": {},
   "source": [
    "CSV 파일 저장 "
   ]
  },
  {
   "cell_type": "code",
   "execution_count": 64,
   "metadata": {
    "collapsed": false
   },
   "outputs": [
    {
     "data": {
      "text/plain": [
       "\"\\n%time FT.to_csv(path_or_buf= 'C:\\\\deep\\\\foodtruck/analysisFT.csv',    sep=str(','), header=True,index=True, mode='w')\\n\""
      ]
     },
     "execution_count": 64,
     "metadata": {},
     "output_type": "execute_result"
    }
   ],
   "source": [
    "\"\"\"\n",
    "%time FT.to_csv(path_or_buf= 'C:\\deep\\\\foodtruck/analysisFT.csv',\\\n",
    "    sep=str(','), header=True,index=True, mode='w')\n",
    "\"\"\""
   ]
  },
  {
   "cell_type": "code",
   "execution_count": 40,
   "metadata": {
    "collapsed": false
   },
   "outputs": [
    {
     "data": {
      "text/html": [
       "<div>\n",
       "<table border=\"1\" class=\"dataframe\">\n",
       "  <thead>\n",
       "    <tr style=\"text-align: right;\">\n",
       "      <th></th>\n",
       "      <th>광역시도</th>\n",
       "      <th>행정구역</th>\n",
       "      <th>푸드트럭 수</th>\n",
       "      <th>전체주소</th>\n",
       "      <th>인구수</th>\n",
       "      <th>shortName</th>\n",
       "      <th>x</th>\n",
       "      <th>y</th>\n",
       "      <th>면적</th>\n",
       "    </tr>\n",
       "  </thead>\n",
       "  <tbody>\n",
       "    <tr>\n",
       "      <th>166</th>\n",
       "      <td>강원도</td>\n",
       "      <td>속초시</td>\n",
       "      <td>NaN</td>\n",
       "      <td>NaN</td>\n",
       "      <td>76733.0</td>\n",
       "      <td>속초</td>\n",
       "      <td>9.0</td>\n",
       "      <td>1.0</td>\n",
       "      <td>105.25</td>\n",
       "    </tr>\n",
       "    <tr>\n",
       "      <th>167</th>\n",
       "      <td>강원도</td>\n",
       "      <td>영월군</td>\n",
       "      <td>NaN</td>\n",
       "      <td>NaN</td>\n",
       "      <td>34966.0</td>\n",
       "      <td>영월</td>\n",
       "      <td>10.0</td>\n",
       "      <td>8.0</td>\n",
       "      <td>1127.36</td>\n",
       "    </tr>\n",
       "    <tr>\n",
       "      <th>168</th>\n",
       "      <td>강원도</td>\n",
       "      <td>태백시</td>\n",
       "      <td>NaN</td>\n",
       "      <td>NaN</td>\n",
       "      <td>44175.0</td>\n",
       "      <td>태백</td>\n",
       "      <td>11.0</td>\n",
       "      <td>7.0</td>\n",
       "      <td>303.57</td>\n",
       "    </tr>\n",
       "    <tr>\n",
       "      <th>169</th>\n",
       "      <td>강원도</td>\n",
       "      <td>화천군</td>\n",
       "      <td>NaN</td>\n",
       "      <td>NaN</td>\n",
       "      <td>23612.0</td>\n",
       "      <td>화천</td>\n",
       "      <td>7.0</td>\n",
       "      <td>0.0</td>\n",
       "      <td>909.45</td>\n",
       "    </tr>\n",
       "    <tr>\n",
       "      <th>170</th>\n",
       "      <td>경기도</td>\n",
       "      <td>구리시</td>\n",
       "      <td>NaN</td>\n",
       "      <td>NaN</td>\n",
       "      <td>175676.0</td>\n",
       "      <td>구리</td>\n",
       "      <td>9.0</td>\n",
       "      <td>4.0</td>\n",
       "      <td>33.30</td>\n",
       "    </tr>\n",
       "  </tbody>\n",
       "</table>\n",
       "</div>"
      ],
      "text/plain": [
       "    광역시도 행정구역  푸드트럭 수 전체주소       인구수 shortName     x    y       면적\n",
       "166  강원도  속초시     NaN  NaN   76733.0        속초   9.0  1.0   105.25\n",
       "167  강원도  영월군     NaN  NaN   34966.0        영월  10.0  8.0  1127.36\n",
       "168  강원도  태백시     NaN  NaN   44175.0        태백  11.0  7.0   303.57\n",
       "169  강원도  화천군     NaN  NaN   23612.0        화천   7.0  0.0   909.45\n",
       "170  경기도  구리시     NaN  NaN  175676.0        구리   9.0  4.0    33.30"
      ]
     },
     "execution_count": 40,
     "metadata": {},
     "output_type": "execute_result"
    }
   ],
   "source": [
    "FT['푸드트럭 수'].fillna(value=0)\n",
    "FT[pd.isnull(FT['푸드트럭 수'])].head()"
   ]
  },
  {
   "cell_type": "code",
   "execution_count": 41,
   "metadata": {
    "collapsed": true
   },
   "outputs": [],
   "source": [
    "# print(FT['x'][3])\n",
    "# print(FT[FT == '수원시'])"
   ]
  },
  {
   "cell_type": "code",
   "execution_count": 42,
   "metadata": {
    "collapsed": true
   },
   "outputs": [],
   "source": [
    "# FT[pd.isnull(FT['시도'])]"
   ]
  },
  {
   "cell_type": "code",
   "execution_count": 43,
   "metadata": {
    "collapsed": true
   },
   "outputs": [],
   "source": [
    "# FT[pd.isnull(FT['광역시도'])]"
   ]
  },
  {
   "cell_type": "code",
   "execution_count": 44,
   "metadata": {
    "collapsed": false
   },
   "outputs": [
    {
     "data": {
      "text/html": [
       "<div>\n",
       "<table border=\"1\" class=\"dataframe\">\n",
       "  <thead>\n",
       "    <tr style=\"text-align: right;\">\n",
       "      <th></th>\n",
       "      <th>광역시도</th>\n",
       "      <th>행정구역</th>\n",
       "      <th>푸드트럭 수</th>\n",
       "      <th>인구수</th>\n",
       "      <th>shortName</th>\n",
       "      <th>x</th>\n",
       "      <th>y</th>\n",
       "      <th>면적</th>\n",
       "    </tr>\n",
       "  </thead>\n",
       "  <tbody>\n",
       "    <tr>\n",
       "      <th>0</th>\n",
       "      <td>서울특별시</td>\n",
       "      <td>영등포구</td>\n",
       "      <td>137.0</td>\n",
       "      <td>351837.0</td>\n",
       "      <td>서울영등포</td>\n",
       "      <td>4.0</td>\n",
       "      <td>6.0</td>\n",
       "      <td>24.56</td>\n",
       "    </tr>\n",
       "    <tr>\n",
       "      <th>1</th>\n",
       "      <td>서울특별시</td>\n",
       "      <td>서초구</td>\n",
       "      <td>106.0</td>\n",
       "      <td>407416.0</td>\n",
       "      <td>서울서초</td>\n",
       "      <td>6.0</td>\n",
       "      <td>6.0</td>\n",
       "      <td>47.04</td>\n",
       "    </tr>\n",
       "    <tr>\n",
       "      <th>2</th>\n",
       "      <td>서울특별시</td>\n",
       "      <td>중구</td>\n",
       "      <td>80.0</td>\n",
       "      <td>114967.0</td>\n",
       "      <td>서울중구</td>\n",
       "      <td>6.0</td>\n",
       "      <td>4.0</td>\n",
       "      <td>9.96</td>\n",
       "    </tr>\n",
       "    <tr>\n",
       "      <th>3</th>\n",
       "      <td>경기도</td>\n",
       "      <td>수원시</td>\n",
       "      <td>46.0</td>\n",
       "      <td>1125461.0</td>\n",
       "      <td>수원</td>\n",
       "      <td>6.0</td>\n",
       "      <td>9.0</td>\n",
       "      <td>121.09</td>\n",
       "    </tr>\n",
       "    <tr>\n",
       "      <th>4</th>\n",
       "      <td>경상남도</td>\n",
       "      <td>김해시</td>\n",
       "      <td>33.0</td>\n",
       "      <td>500641.0</td>\n",
       "      <td>김해</td>\n",
       "      <td>8.0</td>\n",
       "      <td>19.0</td>\n",
       "      <td>463.26</td>\n",
       "    </tr>\n",
       "  </tbody>\n",
       "</table>\n",
       "</div>"
      ],
      "text/plain": [
       "    광역시도  행정구역  푸드트럭 수        인구수 shortName    x     y      면적\n",
       "0  서울특별시  영등포구   137.0   351837.0     서울영등포  4.0   6.0   24.56\n",
       "1  서울특별시   서초구   106.0   407416.0      서울서초  6.0   6.0   47.04\n",
       "2  서울특별시    중구    80.0   114967.0      서울중구  6.0   4.0    9.96\n",
       "3    경기도   수원시    46.0  1125461.0        수원  6.0   9.0  121.09\n",
       "4   경상남도   김해시    33.0   500641.0        김해  8.0  19.0  463.26"
      ]
     },
     "execution_count": 44,
     "metadata": {},
     "output_type": "execute_result"
    }
   ],
   "source": [
    "FT = FT.drop('전체주소', axis=1)\n",
    "FT.head()"
   ]
  },
  {
   "cell_type": "code",
   "execution_count": 45,
   "metadata": {
    "collapsed": false,
    "scrolled": true
   },
   "outputs": [
    {
     "data": {
      "text/html": [
       "<div>\n",
       "<table border=\"1\" class=\"dataframe\">\n",
       "  <thead>\n",
       "    <tr style=\"text-align: right;\">\n",
       "      <th></th>\n",
       "      <th>광역시도</th>\n",
       "      <th>행정구역</th>\n",
       "      <th>푸드트럭 수</th>\n",
       "      <th>인구수</th>\n",
       "      <th>shortName</th>\n",
       "      <th>x</th>\n",
       "      <th>y</th>\n",
       "      <th>면적</th>\n",
       "    </tr>\n",
       "  </thead>\n",
       "  <tbody>\n",
       "    <tr>\n",
       "      <th>5</th>\n",
       "      <td>세종특별자치시</td>\n",
       "      <td>세종특별자치시</td>\n",
       "      <td>33.0</td>\n",
       "      <td>NaN</td>\n",
       "      <td>NaN</td>\n",
       "      <td>NaN</td>\n",
       "      <td>NaN</td>\n",
       "      <td>NaN</td>\n",
       "    </tr>\n",
       "    <tr>\n",
       "      <th>68</th>\n",
       "      <td>인천광역시</td>\n",
       "      <td>미추홀구</td>\n",
       "      <td>6.0</td>\n",
       "      <td>NaN</td>\n",
       "      <td>NaN</td>\n",
       "      <td>NaN</td>\n",
       "      <td>NaN</td>\n",
       "      <td>NaN</td>\n",
       "    </tr>\n",
       "  </tbody>\n",
       "</table>\n",
       "</div>"
      ],
      "text/plain": [
       "       광역시도     행정구역  푸드트럭 수  인구수 shortName   x   y  면적\n",
       "5   세종특별자치시  세종특별자치시    33.0  NaN       NaN NaN NaN NaN\n",
       "68    인천광역시     미추홀구     6.0  NaN       NaN NaN NaN NaN"
      ]
     },
     "execution_count": 45,
     "metadata": {},
     "output_type": "execute_result"
    }
   ],
   "source": [
    "FT[FT['x'].apply(np.isnan)]\n"
   ]
  },
  {
   "cell_type": "code",
   "execution_count": 46,
   "metadata": {
    "collapsed": false
   },
   "outputs": [
    {
     "data": {
      "text/html": [
       "<div>\n",
       "<table border=\"1\" class=\"dataframe\">\n",
       "  <thead>\n",
       "    <tr style=\"text-align: right;\">\n",
       "      <th></th>\n",
       "      <th>광역시도</th>\n",
       "      <th>행정구역</th>\n",
       "      <th>푸드트럭 수</th>\n",
       "      <th>인구수</th>\n",
       "      <th>shortName</th>\n",
       "      <th>x</th>\n",
       "      <th>y</th>\n",
       "      <th>면적</th>\n",
       "    </tr>\n",
       "  </thead>\n",
       "  <tbody>\n",
       "    <tr>\n",
       "      <th>43</th>\n",
       "      <td>인천광역시</td>\n",
       "      <td>서구</td>\n",
       "      <td>9.0</td>\n",
       "      <td>477567.0</td>\n",
       "      <td>인천서구</td>\n",
       "      <td>1.0</td>\n",
       "      <td>4.0</td>\n",
       "      <td>137.05</td>\n",
       "    </tr>\n",
       "    <tr>\n",
       "      <th>46</th>\n",
       "      <td>인천광역시</td>\n",
       "      <td>중구</td>\n",
       "      <td>9.0</td>\n",
       "      <td>105029.0</td>\n",
       "      <td>인천중구</td>\n",
       "      <td>1.0</td>\n",
       "      <td>7.0</td>\n",
       "      <td>110.60</td>\n",
       "    </tr>\n",
       "    <tr>\n",
       "      <th>54</th>\n",
       "      <td>인천광역시</td>\n",
       "      <td>계양구</td>\n",
       "      <td>8.0</td>\n",
       "      <td>317785.0</td>\n",
       "      <td>인천계양</td>\n",
       "      <td>2.0</td>\n",
       "      <td>5.0</td>\n",
       "      <td>45.58</td>\n",
       "    </tr>\n",
       "    <tr>\n",
       "      <th>56</th>\n",
       "      <td>인천광역시</td>\n",
       "      <td>부평구</td>\n",
       "      <td>8.0</td>\n",
       "      <td>527153.0</td>\n",
       "      <td>인천부평</td>\n",
       "      <td>2.0</td>\n",
       "      <td>6.0</td>\n",
       "      <td>32.00</td>\n",
       "    </tr>\n",
       "    <tr>\n",
       "      <th>65</th>\n",
       "      <td>인천광역시</td>\n",
       "      <td>남동구</td>\n",
       "      <td>6.0</td>\n",
       "      <td>505791.0</td>\n",
       "      <td>인천남동</td>\n",
       "      <td>2.0</td>\n",
       "      <td>8.0</td>\n",
       "      <td>56.90</td>\n",
       "    </tr>\n",
       "    <tr>\n",
       "      <th>68</th>\n",
       "      <td>인천광역시</td>\n",
       "      <td>미추홀구</td>\n",
       "      <td>6.0</td>\n",
       "      <td>NaN</td>\n",
       "      <td>NaN</td>\n",
       "      <td>NaN</td>\n",
       "      <td>NaN</td>\n",
       "      <td>NaN</td>\n",
       "    </tr>\n",
       "    <tr>\n",
       "      <th>102</th>\n",
       "      <td>인천광역시</td>\n",
       "      <td>강화군</td>\n",
       "      <td>2.0</td>\n",
       "      <td>58296.0</td>\n",
       "      <td>인천강화</td>\n",
       "      <td>1.0</td>\n",
       "      <td>3.0</td>\n",
       "      <td>411.20</td>\n",
       "    </tr>\n",
       "    <tr>\n",
       "      <th>128</th>\n",
       "      <td>인천광역시</td>\n",
       "      <td>연수구</td>\n",
       "      <td>1.0</td>\n",
       "      <td>299734.0</td>\n",
       "      <td>인천연수</td>\n",
       "      <td>1.0</td>\n",
       "      <td>8.0</td>\n",
       "      <td>33.76</td>\n",
       "    </tr>\n",
       "    <tr>\n",
       "      <th>198</th>\n",
       "      <td>인천광역시</td>\n",
       "      <td>남구</td>\n",
       "      <td>NaN</td>\n",
       "      <td>388535.0</td>\n",
       "      <td>인천남구</td>\n",
       "      <td>2.0</td>\n",
       "      <td>7.0</td>\n",
       "      <td>24.47</td>\n",
       "    </tr>\n",
       "    <tr>\n",
       "      <th>199</th>\n",
       "      <td>인천광역시</td>\n",
       "      <td>동구</td>\n",
       "      <td>NaN</td>\n",
       "      <td>68950.0</td>\n",
       "      <td>인천동구</td>\n",
       "      <td>1.0</td>\n",
       "      <td>5.0</td>\n",
       "      <td>7.05</td>\n",
       "    </tr>\n",
       "    <tr>\n",
       "      <th>200</th>\n",
       "      <td>인천광역시</td>\n",
       "      <td>옹진군</td>\n",
       "      <td>NaN</td>\n",
       "      <td>17735.0</td>\n",
       "      <td>인천옹진</td>\n",
       "      <td>0.0</td>\n",
       "      <td>8.0</td>\n",
       "      <td>164.30</td>\n",
       "    </tr>\n",
       "  </tbody>\n",
       "</table>\n",
       "</div>"
      ],
      "text/plain": [
       "      광역시도  행정구역  푸드트럭 수       인구수 shortName    x    y      면적\n",
       "43   인천광역시    서구     9.0  477567.0      인천서구  1.0  4.0  137.05\n",
       "46   인천광역시    중구     9.0  105029.0      인천중구  1.0  7.0  110.60\n",
       "54   인천광역시   계양구     8.0  317785.0      인천계양  2.0  5.0   45.58\n",
       "56   인천광역시   부평구     8.0  527153.0      인천부평  2.0  6.0   32.00\n",
       "65   인천광역시   남동구     6.0  505791.0      인천남동  2.0  8.0   56.90\n",
       "68   인천광역시  미추홀구     6.0       NaN       NaN  NaN  NaN     NaN\n",
       "102  인천광역시   강화군     2.0   58296.0      인천강화  1.0  3.0  411.20\n",
       "128  인천광역시   연수구     1.0  299734.0      인천연수  1.0  8.0   33.76\n",
       "198  인천광역시    남구     NaN  388535.0      인천남구  2.0  7.0   24.47\n",
       "199  인천광역시    동구     NaN   68950.0      인천동구  1.0  5.0    7.05\n",
       "200  인천광역시   옹진군     NaN   17735.0      인천옹진  0.0  8.0  164.30"
      ]
     },
     "execution_count": 46,
     "metadata": {},
     "output_type": "execute_result"
    }
   ],
   "source": [
    "FT[FT['광역시도'] == '인천광역시']"
   ]
  },
  {
   "cell_type": "code",
   "execution_count": 47,
   "metadata": {
    "collapsed": false
   },
   "outputs": [
    {
     "data": {
      "text/html": [
       "<div>\n",
       "<table border=\"1\" class=\"dataframe\">\n",
       "  <thead>\n",
       "    <tr style=\"text-align: right;\">\n",
       "      <th></th>\n",
       "      <th>광역시도</th>\n",
       "      <th>행정구역</th>\n",
       "      <th>푸드트럭 수</th>\n",
       "      <th>인구수</th>\n",
       "      <th>shortName</th>\n",
       "      <th>x</th>\n",
       "      <th>y</th>\n",
       "      <th>면적</th>\n",
       "    </tr>\n",
       "  </thead>\n",
       "  <tbody>\n",
       "    <tr>\n",
       "      <th>68</th>\n",
       "      <td>인천광역시</td>\n",
       "      <td>미추홀구</td>\n",
       "      <td>6.0</td>\n",
       "      <td>NaN</td>\n",
       "      <td>NaN</td>\n",
       "      <td>NaN</td>\n",
       "      <td>NaN</td>\n",
       "      <td>NaN</td>\n",
       "    </tr>\n",
       "  </tbody>\n",
       "</table>\n",
       "</div>"
      ],
      "text/plain": [
       "     광역시도  행정구역  푸드트럭 수  인구수 shortName   x   y  면적\n",
       "68  인천광역시  미추홀구     6.0  NaN       NaN NaN NaN NaN"
      ]
     },
     "execution_count": 47,
     "metadata": {},
     "output_type": "execute_result"
    }
   ],
   "source": [
    "FT[FT['행정구역'] == '미추홀구']"
   ]
  },
  {
   "cell_type": "markdown",
   "metadata": {},
   "source": [
    "2018년 7월 1일부터 본래 명칭인 '남구'에서 '미추홀구'로 변경됨. -> 남구의 값에서 행정구역 이름만 교체하기"
   ]
  },
  {
   "cell_type": "code",
   "execution_count": 48,
   "metadata": {
    "collapsed": false
   },
   "outputs": [],
   "source": [
    "FT.iloc[198] = ['인천광역시', '미추홀구', '6.0', '388535.0','인천미추홀','2.0', '7.0', '24.47']"
   ]
  },
  {
   "cell_type": "code",
   "execution_count": 49,
   "metadata": {
    "collapsed": false
   },
   "outputs": [
    {
     "data": {
      "text/html": [
       "<div>\n",
       "<table border=\"1\" class=\"dataframe\">\n",
       "  <thead>\n",
       "    <tr style=\"text-align: right;\">\n",
       "      <th></th>\n",
       "      <th>광역시도</th>\n",
       "      <th>행정구역</th>\n",
       "      <th>푸드트럭 수</th>\n",
       "      <th>인구수</th>\n",
       "      <th>shortName</th>\n",
       "      <th>x</th>\n",
       "      <th>y</th>\n",
       "      <th>면적</th>\n",
       "    </tr>\n",
       "  </thead>\n",
       "  <tbody>\n",
       "    <tr>\n",
       "      <th>68</th>\n",
       "      <td>인천광역시</td>\n",
       "      <td>미추홀구</td>\n",
       "      <td>6</td>\n",
       "      <td>NaN</td>\n",
       "      <td>NaN</td>\n",
       "      <td>NaN</td>\n",
       "      <td>NaN</td>\n",
       "      <td>NaN</td>\n",
       "    </tr>\n",
       "    <tr>\n",
       "      <th>198</th>\n",
       "      <td>인천광역시</td>\n",
       "      <td>미추홀구</td>\n",
       "      <td>6.0</td>\n",
       "      <td>388535.0</td>\n",
       "      <td>인천미추홀</td>\n",
       "      <td>2.0</td>\n",
       "      <td>7.0</td>\n",
       "      <td>24.47</td>\n",
       "    </tr>\n",
       "  </tbody>\n",
       "</table>\n",
       "</div>"
      ],
      "text/plain": [
       "      광역시도  행정구역 푸드트럭 수       인구수 shortName    x    y     면적\n",
       "68   인천광역시  미추홀구      6       NaN       NaN  NaN  NaN    NaN\n",
       "198  인천광역시  미추홀구    6.0  388535.0     인천미추홀  2.0  7.0  24.47"
      ]
     },
     "execution_count": 49,
     "metadata": {},
     "output_type": "execute_result"
    }
   ],
   "source": [
    "FT[FT['행정구역'] == '미추홀구']"
   ]
  },
  {
   "cell_type": "markdown",
   "metadata": {},
   "source": [
    "＃ 특정값을 가지는 인덱스 추출방법\n",
    "ix/iloc"
   ]
  },
  {
   "cell_type": "code",
   "execution_count": 62,
   "metadata": {
    "collapsed": false
   },
   "outputs": [
    {
     "name": "stdout",
     "output_type": "stream",
     "text": [
      "광역시도         인천광역시\n",
      "행정구역          미추홀구\n",
      "푸드트럭 수           6\n",
      "인구수            NaN\n",
      "shortName      NaN\n",
      "x              NaN\n",
      "y              NaN\n",
      "면적             NaN\n",
      "Name: 68, dtype: object\n",
      "------------------------------\n",
      "광역시도         인천광역시\n",
      "행정구역          미추홀구\n",
      "푸드트럭 수           6\n",
      "인구수            NaN\n",
      "shortName      NaN\n",
      "x              NaN\n",
      "y              NaN\n",
      "면적             NaN\n",
      "Name: 68, dtype: object\n"
     ]
    }
   ],
   "source": [
    "print(FT.ix[68])\n",
    "print(\"------------------------------\")\n",
    "print(FT.iloc[68])"
   ]
  },
  {
   "cell_type": "code",
   "execution_count": 65,
   "metadata": {
    "collapsed": false
   },
   "outputs": [],
   "source": [
    "FT = FT.drop(68, axis=0)"
   ]
  },
  {
   "cell_type": "code",
   "execution_count": 66,
   "metadata": {
    "collapsed": false
   },
   "outputs": [
    {
     "data": {
      "text/html": [
       "<div>\n",
       "<table border=\"1\" class=\"dataframe\">\n",
       "  <thead>\n",
       "    <tr style=\"text-align: right;\">\n",
       "      <th></th>\n",
       "      <th>광역시도</th>\n",
       "      <th>행정구역</th>\n",
       "      <th>푸드트럭 수</th>\n",
       "      <th>인구수</th>\n",
       "      <th>shortName</th>\n",
       "      <th>x</th>\n",
       "      <th>y</th>\n",
       "      <th>면적</th>\n",
       "    </tr>\n",
       "  </thead>\n",
       "  <tbody>\n",
       "    <tr>\n",
       "      <th>198</th>\n",
       "      <td>인천광역시</td>\n",
       "      <td>미추홀구</td>\n",
       "      <td>6.0</td>\n",
       "      <td>388535.0</td>\n",
       "      <td>인천미추홀</td>\n",
       "      <td>2.0</td>\n",
       "      <td>7.0</td>\n",
       "      <td>24.47</td>\n",
       "    </tr>\n",
       "  </tbody>\n",
       "</table>\n",
       "</div>"
      ],
      "text/plain": [
       "      광역시도  행정구역 푸드트럭 수       인구수 shortName    x    y     면적\n",
       "198  인천광역시  미추홀구    6.0  388535.0     인천미추홀  2.0  7.0  24.47"
      ]
     },
     "execution_count": 66,
     "metadata": {},
     "output_type": "execute_result"
    }
   ],
   "source": [
    "FT[FT['행정구역'] == '미추홀구']"
   ]
  },
  {
   "cell_type": "code",
   "execution_count": 67,
   "metadata": {
    "collapsed": false
   },
   "outputs": [
    {
     "data": {
      "text/html": [
       "<div>\n",
       "<table border=\"1\" class=\"dataframe\">\n",
       "  <thead>\n",
       "    <tr style=\"text-align: right;\">\n",
       "      <th></th>\n",
       "      <th>광역시도</th>\n",
       "      <th>행정구역</th>\n",
       "      <th>푸드트럭 수</th>\n",
       "      <th>인구수</th>\n",
       "      <th>shortName</th>\n",
       "      <th>x</th>\n",
       "      <th>y</th>\n",
       "      <th>면적</th>\n",
       "    </tr>\n",
       "  </thead>\n",
       "  <tbody>\n",
       "    <tr>\n",
       "      <th>5</th>\n",
       "      <td>세종특별자치시</td>\n",
       "      <td>세종특별자치시</td>\n",
       "      <td>33</td>\n",
       "      <td>NaN</td>\n",
       "      <td>NaN</td>\n",
       "      <td>NaN</td>\n",
       "      <td>NaN</td>\n",
       "      <td>NaN</td>\n",
       "    </tr>\n",
       "    <tr>\n",
       "      <th>195</th>\n",
       "      <td>세종특별자치시</td>\n",
       "      <td>세종시</td>\n",
       "      <td>NaN</td>\n",
       "      <td>191233</td>\n",
       "      <td>세종</td>\n",
       "      <td>4</td>\n",
       "      <td>11</td>\n",
       "      <td>465.23</td>\n",
       "    </tr>\n",
       "  </tbody>\n",
       "</table>\n",
       "</div>"
      ],
      "text/plain": [
       "        광역시도     행정구역 푸드트럭 수     인구수 shortName    x    y      면적\n",
       "5    세종특별자치시  세종특별자치시     33     NaN       NaN  NaN  NaN     NaN\n",
       "195  세종특별자치시      세종시    NaN  191233        세종    4   11  465.23"
      ]
     },
     "execution_count": 67,
     "metadata": {},
     "output_type": "execute_result"
    }
   ],
   "source": [
    "FT[FT['광역시도'] == '세종특별자치시']"
   ]
  },
  {
   "cell_type": "code",
   "execution_count": 68,
   "metadata": {
    "collapsed": true
   },
   "outputs": [],
   "source": [
    "FT.iloc[5] = ['세종특별자치시', '세종특별자치시', '33.0', '191233.0','세종','4.0', '11.0', '465.23']"
   ]
  },
  {
   "cell_type": "code",
   "execution_count": 69,
   "metadata": {
    "collapsed": true
   },
   "outputs": [],
   "source": [
    "FT = FT.drop(195, axis=0)"
   ]
  },
  {
   "cell_type": "code",
   "execution_count": 70,
   "metadata": {
    "collapsed": false
   },
   "outputs": [
    {
     "data": {
      "text/html": [
       "<div>\n",
       "<table border=\"1\" class=\"dataframe\">\n",
       "  <thead>\n",
       "    <tr style=\"text-align: right;\">\n",
       "      <th></th>\n",
       "      <th>광역시도</th>\n",
       "      <th>행정구역</th>\n",
       "      <th>푸드트럭 수</th>\n",
       "      <th>인구수</th>\n",
       "      <th>shortName</th>\n",
       "      <th>x</th>\n",
       "      <th>y</th>\n",
       "      <th>면적</th>\n",
       "    </tr>\n",
       "  </thead>\n",
       "  <tbody>\n",
       "    <tr>\n",
       "      <th>5</th>\n",
       "      <td>세종특별자치시</td>\n",
       "      <td>세종특별자치시</td>\n",
       "      <td>33.0</td>\n",
       "      <td>191233.0</td>\n",
       "      <td>세종</td>\n",
       "      <td>4.0</td>\n",
       "      <td>11.0</td>\n",
       "      <td>465.23</td>\n",
       "    </tr>\n",
       "  </tbody>\n",
       "</table>\n",
       "</div>"
      ],
      "text/plain": [
       "      광역시도     행정구역 푸드트럭 수       인구수 shortName    x     y      면적\n",
       "5  세종특별자치시  세종특별자치시   33.0  191233.0        세종  4.0  11.0  465.23"
      ]
     },
     "execution_count": 70,
     "metadata": {},
     "output_type": "execute_result"
    }
   ],
   "source": [
    "FT[FT['광역시도'] == '세종특별자치시']"
   ]
  },
  {
   "cell_type": "code",
   "execution_count": 79,
   "metadata": {
    "collapsed": false
   },
   "outputs": [
    {
     "name": "stdout",
     "output_type": "stream",
     "text": [
      "0\n"
     ]
    }
   ],
   "source": [
    "print(FT.isnull().sum())"
   ]
  },
  {
   "cell_type": "code",
   "execution_count": 80,
   "metadata": {
    "collapsed": true
   },
   "outputs": [],
   "source": [
    "from matplotlib import rcParams\n",
    "from matplotlib import cm, colors, _cm\n",
    "rcParams['font.family'] = 'NanumBarunGothic'"
   ]
  },
  {
   "cell_type": "code",
   "execution_count": 81,
   "metadata": {
    "collapsed": false
   },
   "outputs": [
    {
     "ename": "ImportError",
     "evalue": "No module named 'drawKorea'",
     "output_type": "error",
     "traceback": [
      "\u001b[0;31m---------------------------------------------------------------------------\u001b[0m",
      "\u001b[0;31mImportError\u001b[0m                               Traceback (most recent call last)",
      "\u001b[0;32m<ipython-input-81-13a21dccbde8>\u001b[0m in \u001b[0;36m<module>\u001b[0;34m()\u001b[0m\n\u001b[0;32m----> 1\u001b[0;31m \u001b[1;32mimport\u001b[0m \u001b[0mdrawKorea\u001b[0m\u001b[1;33m\u001b[0m\u001b[0m\n\u001b[0m",
      "\u001b[0;31mImportError\u001b[0m: No module named 'drawKorea'"
     ]
    }
   ],
   "source": [
    "import drawKorea "
   ]
  },
  {
   "cell_type": "code",
   "execution_count": null,
   "metadata": {
    "collapsed": true
   },
   "outputs": [],
   "source": []
  }
 ],
 "metadata": {
  "anaconda-cloud": {},
  "kernelspec": {
   "display_name": "Python [conda root]",
   "language": "python",
   "name": "conda-root-py"
  },
  "language_info": {
   "codemirror_mode": {
    "name": "ipython",
    "version": 3
   },
   "file_extension": ".py",
   "mimetype": "text/x-python",
   "name": "python",
   "nbconvert_exporter": "python",
   "pygments_lexer": "ipython3",
   "version": "3.5.4"
  }
 },
 "nbformat": 4,
 "nbformat_minor": 0
}
